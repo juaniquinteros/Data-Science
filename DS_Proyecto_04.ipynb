{
 "cells": [
  {
   "cell_type": "markdown",
   "metadata": {},
   "source": [
    "# Proyecto 04 - Sistemas de Recomendación Steam y analisis NLP\n",
    "\n",
    "## Dataset: STEAM\n",
    "\n",
    "Recuerda descargar el dataset de [aquí](https://github.com/kang205/SASRec). Son dos archivos, uno de calificaciones y otro de información sobre los juegos.\n",
    "\n",
    "**Se parte de lo antes resuelto en el proyecto anterior, creando un dataset nuevo y combinando ambos , viendo si la columna 'text' puede llegar a mejorar las predicciones.**\n",
    "\n",
    "## **IMPORTANTE:** \n",
    "#### por cuestiones de implementacion y para poder comparar correctamente los modelos, se cambio el rating siendo antes de 1 a 10, ahora se tomo como punto de martida la mediana que es el valor mas representativo de las horas y si los juegos superan esa medida significa que les gusto y de lo contrario no.\n",
    "\n",
    "**Asi podremos ver si realmente la implementacion de NLP fue beneficiosa o no.**\n",
    "\n",
    "**Por razones antes mencionadas, se vuelve a hacer el mismo analisis que en el proyecto anterior con el nuevo rating y luego se continua con las nuevas predicciones**"
   ]
  },
  {
   "cell_type": "code",
   "execution_count": 1,
   "metadata": {},
   "outputs": [],
   "source": [
    "import pandas as pd\n",
    "import numpy as np\n",
    "import seaborn as sns\n",
    "import scipy as sp\n",
    "import matplotlib.pyplot as plt\n",
    "import gzip\n",
    "from matplotlib import rcParams\n",
    "from scipy.stats import norm\n",
    "import gc #garbage collector\n",
    "from surprise import Dataset\n",
    "from surprise import Reader\n",
    "from surprise.model_selection import train_test_split\n",
    "from surprise import accuracy\n",
    "from surprise import SVD\n",
    "sns.set(palette=\"Blues_d\")\n",
    "\n",
    "import warnings\n",
    "warnings.filterwarnings('ignore')"
   ]
  },
  {
   "cell_type": "code",
   "execution_count": 2,
   "metadata": {},
   "outputs": [],
   "source": [
    "def parse(path):\n",
    "    g = gzip.open(path, 'r')\n",
    "    for l in g:\n",
    "        yield eval(l)"
   ]
  },
  {
   "cell_type": "code",
   "execution_count": 3,
   "metadata": {},
   "outputs": [],
   "source": [
    "contador = 0\n",
    "data_reviews = []\n",
    "# Vamos a guardar una de cada 10 reviews para no llenar la memoria RAM. Si pones n = 3, abrira uno de cada tres, y asi.\n",
    "n = 10\n",
    "for l in parse('steam_reviews.json.gz'):\n",
    "    if contador%n == 0:\n",
    "        data_reviews.append(l)\n",
    "    else:\n",
    "        pass\n",
    "    contador += 1 "
   ]
  },
  {
   "cell_type": "markdown",
   "metadata": {},
   "source": [
    "### Reviews dataframe"
   ]
  },
  {
   "cell_type": "code",
   "execution_count": 4,
   "metadata": {},
   "outputs": [
    {
     "data": {
      "text/html": [
       "<div>\n",
       "<style scoped>\n",
       "    .dataframe tbody tr th:only-of-type {\n",
       "        vertical-align: middle;\n",
       "    }\n",
       "\n",
       "    .dataframe tbody tr th {\n",
       "        vertical-align: top;\n",
       "    }\n",
       "\n",
       "    .dataframe thead th {\n",
       "        text-align: right;\n",
       "    }\n",
       "</style>\n",
       "<table border=\"1\" class=\"dataframe\">\n",
       "  <thead>\n",
       "    <tr style=\"text-align: right;\">\n",
       "      <th></th>\n",
       "      <th>username</th>\n",
       "      <th>hours</th>\n",
       "      <th>products</th>\n",
       "      <th>product_id</th>\n",
       "      <th>page_order</th>\n",
       "      <th>date</th>\n",
       "      <th>text</th>\n",
       "      <th>early_access</th>\n",
       "      <th>page</th>\n",
       "      <th>user_id</th>\n",
       "      <th>compensation</th>\n",
       "      <th>found_funny</th>\n",
       "    </tr>\n",
       "  </thead>\n",
       "  <tbody>\n",
       "    <tr>\n",
       "      <th>0</th>\n",
       "      <td>Chaos Syren</td>\n",
       "      <td>0.1</td>\n",
       "      <td>41.0</td>\n",
       "      <td>725280</td>\n",
       "      <td>0</td>\n",
       "      <td>2017-12-17</td>\n",
       "      <td>This would not be acceptable as an entertainme...</td>\n",
       "      <td>False</td>\n",
       "      <td>1</td>\n",
       "      <td>NaN</td>\n",
       "      <td>NaN</td>\n",
       "      <td>nan</td>\n",
       "    </tr>\n",
       "    <tr>\n",
       "      <th>1</th>\n",
       "      <td>Ariman1</td>\n",
       "      <td>13.2</td>\n",
       "      <td>1386.0</td>\n",
       "      <td>328100</td>\n",
       "      <td>2</td>\n",
       "      <td>2017-08-02</td>\n",
       "      <td>Addictive RPG ! Works fine on linux though it ...</td>\n",
       "      <td>False</td>\n",
       "      <td>1</td>\n",
       "      <td>NaN</td>\n",
       "      <td>NaN</td>\n",
       "      <td>nan</td>\n",
       "    </tr>\n",
       "    <tr>\n",
       "      <th>2</th>\n",
       "      <td>freakfantom</td>\n",
       "      <td>0.1</td>\n",
       "      <td>1706.0</td>\n",
       "      <td>725280</td>\n",
       "      <td>5</td>\n",
       "      <td>2017-11-12</td>\n",
       "      <td>Прикольная стрелялка. Взял дешево на распродаже.</td>\n",
       "      <td>False</td>\n",
       "      <td>1</td>\n",
       "      <td>NaN</td>\n",
       "      <td>NaN</td>\n",
       "      <td>nan</td>\n",
       "    </tr>\n",
       "    <tr>\n",
       "      <th>3</th>\n",
       "      <td>The_Cpt_FROGGY</td>\n",
       "      <td>7.8</td>\n",
       "      <td>2217.0</td>\n",
       "      <td>631920</td>\n",
       "      <td>0</td>\n",
       "      <td>2017-12-11</td>\n",
       "      <td>Somewhere on Zibylon:\\n~~~~~~~~~~~~~~~~~~\\nZib...</td>\n",
       "      <td>False</td>\n",
       "      <td>1</td>\n",
       "      <td>76561198003030375</td>\n",
       "      <td>Product received for free</td>\n",
       "      <td>nan</td>\n",
       "    </tr>\n",
       "    <tr>\n",
       "      <th>4</th>\n",
       "      <td>the_maker988</td>\n",
       "      <td>8.2</td>\n",
       "      <td>18.0</td>\n",
       "      <td>35140</td>\n",
       "      <td>7</td>\n",
       "      <td>2018-01-02</td>\n",
       "      <td>This game was way to linear for me, and compar...</td>\n",
       "      <td>False</td>\n",
       "      <td>1</td>\n",
       "      <td>76561198353396844</td>\n",
       "      <td>NaN</td>\n",
       "      <td>nan</td>\n",
       "    </tr>\n",
       "  </tbody>\n",
       "</table>\n",
       "</div>"
      ],
      "text/plain": [
       "         username  hours  products product_id  page_order        date  \\\n",
       "0     Chaos Syren    0.1      41.0     725280           0  2017-12-17   \n",
       "1         Ariman1   13.2    1386.0     328100           2  2017-08-02   \n",
       "2     freakfantom    0.1    1706.0     725280           5  2017-11-12   \n",
       "3  The_Cpt_FROGGY    7.8    2217.0     631920           0  2017-12-11   \n",
       "4    the_maker988    8.2      18.0      35140           7  2018-01-02   \n",
       "\n",
       "                                                text  early_access  page  \\\n",
       "0  This would not be acceptable as an entertainme...         False     1   \n",
       "1  Addictive RPG ! Works fine on linux though it ...         False     1   \n",
       "2   Прикольная стрелялка. Взял дешево на распродаже.         False     1   \n",
       "3  Somewhere on Zibylon:\\n~~~~~~~~~~~~~~~~~~\\nZib...         False     1   \n",
       "4  This game was way to linear for me, and compar...         False     1   \n",
       "\n",
       "             user_id               compensation  found_funny  \n",
       "0                NaN                        NaN          nan  \n",
       "1                NaN                        NaN          nan  \n",
       "2                NaN                        NaN          nan  \n",
       "3  76561198003030375  Product received for free          nan  \n",
       "4  76561198353396844                        NaN          nan  "
      ]
     },
     "execution_count": 4,
     "metadata": {},
     "output_type": "execute_result"
    }
   ],
   "source": [
    "data_reviews = pd.DataFrame(data_reviews)\n",
    "\n",
    "#evitamos que los product_id aparezcan con notación cientrífica\n",
    "pd.options.display.float_format = '{:.1f}'.format\n",
    "#borramos duplicados\n",
    "data_reviews.drop_duplicates(subset=['product_id', 'user_id'], keep='last')\n",
    "\n",
    "data_reviews.head()"
   ]
  },
  {
   "cell_type": "code",
   "execution_count": 5,
   "metadata": {},
   "outputs": [],
   "source": [
    "#creo una copia para utilizar en la investigacion del ultimo punto\n",
    "datain = data_reviews"
   ]
  },
  {
   "cell_type": "markdown",
   "metadata": {},
   "source": [
    "### Games dataframe"
   ]
  },
  {
   "cell_type": "code",
   "execution_count": 6,
   "metadata": {},
   "outputs": [],
   "source": [
    "data_games = []\n",
    "for l in parse('steam_games.json.gz'):\n",
    "    data_games.append(l)\n",
    "data_games = pd.DataFrame(data_games)"
   ]
  },
  {
   "cell_type": "code",
   "execution_count": 7,
   "metadata": {},
   "outputs": [
    {
     "data": {
      "text/html": [
       "<div>\n",
       "<style scoped>\n",
       "    .dataframe tbody tr th:only-of-type {\n",
       "        vertical-align: middle;\n",
       "    }\n",
       "\n",
       "    .dataframe tbody tr th {\n",
       "        vertical-align: top;\n",
       "    }\n",
       "\n",
       "    .dataframe thead th {\n",
       "        text-align: right;\n",
       "    }\n",
       "</style>\n",
       "<table border=\"1\" class=\"dataframe\">\n",
       "  <thead>\n",
       "    <tr style=\"text-align: right;\">\n",
       "      <th></th>\n",
       "      <th>publisher</th>\n",
       "      <th>genres</th>\n",
       "      <th>app_name</th>\n",
       "      <th>title</th>\n",
       "      <th>url</th>\n",
       "      <th>release_date</th>\n",
       "      <th>tags</th>\n",
       "      <th>discount_price</th>\n",
       "      <th>reviews_url</th>\n",
       "      <th>specs</th>\n",
       "      <th>price</th>\n",
       "      <th>early_access</th>\n",
       "      <th>id</th>\n",
       "      <th>developer</th>\n",
       "      <th>sentiment</th>\n",
       "      <th>metascore</th>\n",
       "    </tr>\n",
       "  </thead>\n",
       "  <tbody>\n",
       "    <tr>\n",
       "      <th>0</th>\n",
       "      <td>Kotoshiro</td>\n",
       "      <td>[Action, Casual, Indie, Simulation, Strategy]</td>\n",
       "      <td>Lost Summoner Kitty</td>\n",
       "      <td>Lost Summoner Kitty</td>\n",
       "      <td>http://store.steampowered.com/app/761140/Lost_...</td>\n",
       "      <td>2018-01-04</td>\n",
       "      <td>[Strategy, Action, Indie, Casual, Simulation]</td>\n",
       "      <td>4.5</td>\n",
       "      <td>http://steamcommunity.com/app/761140/reviews/?...</td>\n",
       "      <td>[Single-player]</td>\n",
       "      <td>5.0</td>\n",
       "      <td>False</td>\n",
       "      <td>761140</td>\n",
       "      <td>Kotoshiro</td>\n",
       "      <td>NaN</td>\n",
       "      <td>NaN</td>\n",
       "    </tr>\n",
       "    <tr>\n",
       "      <th>1</th>\n",
       "      <td>Making Fun, Inc.</td>\n",
       "      <td>[Free to Play, Indie, RPG, Strategy]</td>\n",
       "      <td>Ironbound</td>\n",
       "      <td>Ironbound</td>\n",
       "      <td>http://store.steampowered.com/app/643980/Ironb...</td>\n",
       "      <td>2018-01-04</td>\n",
       "      <td>[Free to Play, Strategy, Indie, RPG, Card Game...</td>\n",
       "      <td>nan</td>\n",
       "      <td>http://steamcommunity.com/app/643980/reviews/?...</td>\n",
       "      <td>[Single-player, Multi-player, Online Multi-Pla...</td>\n",
       "      <td>Free To Play</td>\n",
       "      <td>False</td>\n",
       "      <td>643980</td>\n",
       "      <td>Secret Level SRL</td>\n",
       "      <td>Mostly Positive</td>\n",
       "      <td>NaN</td>\n",
       "    </tr>\n",
       "    <tr>\n",
       "      <th>2</th>\n",
       "      <td>Poolians.com</td>\n",
       "      <td>[Casual, Free to Play, Indie, Simulation, Sports]</td>\n",
       "      <td>Real Pool 3D - Poolians</td>\n",
       "      <td>Real Pool 3D - Poolians</td>\n",
       "      <td>http://store.steampowered.com/app/670290/Real_...</td>\n",
       "      <td>2017-07-24</td>\n",
       "      <td>[Free to Play, Simulation, Sports, Casual, Ind...</td>\n",
       "      <td>nan</td>\n",
       "      <td>http://steamcommunity.com/app/670290/reviews/?...</td>\n",
       "      <td>[Single-player, Multi-player, Online Multi-Pla...</td>\n",
       "      <td>Free to Play</td>\n",
       "      <td>False</td>\n",
       "      <td>670290</td>\n",
       "      <td>Poolians.com</td>\n",
       "      <td>Mostly Positive</td>\n",
       "      <td>NaN</td>\n",
       "    </tr>\n",
       "    <tr>\n",
       "      <th>3</th>\n",
       "      <td>彼岸领域</td>\n",
       "      <td>[Action, Adventure, Casual]</td>\n",
       "      <td>弹炸人2222</td>\n",
       "      <td>弹炸人2222</td>\n",
       "      <td>http://store.steampowered.com/app/767400/2222/</td>\n",
       "      <td>2017-12-07</td>\n",
       "      <td>[Action, Adventure, Casual]</td>\n",
       "      <td>0.8</td>\n",
       "      <td>http://steamcommunity.com/app/767400/reviews/?...</td>\n",
       "      <td>[Single-player]</td>\n",
       "      <td>1.0</td>\n",
       "      <td>False</td>\n",
       "      <td>767400</td>\n",
       "      <td>彼岸领域</td>\n",
       "      <td>NaN</td>\n",
       "      <td>NaN</td>\n",
       "    </tr>\n",
       "    <tr>\n",
       "      <th>4</th>\n",
       "      <td>NaN</td>\n",
       "      <td>NaN</td>\n",
       "      <td>Log Challenge</td>\n",
       "      <td>NaN</td>\n",
       "      <td>http://store.steampowered.com/app/773570/Log_C...</td>\n",
       "      <td>NaN</td>\n",
       "      <td>[Action, Indie, Casual, Sports]</td>\n",
       "      <td>1.8</td>\n",
       "      <td>http://steamcommunity.com/app/773570/reviews/?...</td>\n",
       "      <td>[Single-player, Full controller support, HTC V...</td>\n",
       "      <td>3.0</td>\n",
       "      <td>False</td>\n",
       "      <td>773570</td>\n",
       "      <td>NaN</td>\n",
       "      <td>NaN</td>\n",
       "      <td>NaN</td>\n",
       "    </tr>\n",
       "  </tbody>\n",
       "</table>\n",
       "</div>"
      ],
      "text/plain": [
       "          publisher                                             genres  \\\n",
       "0         Kotoshiro      [Action, Casual, Indie, Simulation, Strategy]   \n",
       "1  Making Fun, Inc.               [Free to Play, Indie, RPG, Strategy]   \n",
       "2      Poolians.com  [Casual, Free to Play, Indie, Simulation, Sports]   \n",
       "3              彼岸领域                        [Action, Adventure, Casual]   \n",
       "4               NaN                                                NaN   \n",
       "\n",
       "                  app_name                    title  \\\n",
       "0      Lost Summoner Kitty      Lost Summoner Kitty   \n",
       "1                Ironbound                Ironbound   \n",
       "2  Real Pool 3D - Poolians  Real Pool 3D - Poolians   \n",
       "3                  弹炸人2222                  弹炸人2222   \n",
       "4            Log Challenge                      NaN   \n",
       "\n",
       "                                                 url release_date  \\\n",
       "0  http://store.steampowered.com/app/761140/Lost_...   2018-01-04   \n",
       "1  http://store.steampowered.com/app/643980/Ironb...   2018-01-04   \n",
       "2  http://store.steampowered.com/app/670290/Real_...   2017-07-24   \n",
       "3     http://store.steampowered.com/app/767400/2222/   2017-12-07   \n",
       "4  http://store.steampowered.com/app/773570/Log_C...          NaN   \n",
       "\n",
       "                                                tags  discount_price  \\\n",
       "0      [Strategy, Action, Indie, Casual, Simulation]             4.5   \n",
       "1  [Free to Play, Strategy, Indie, RPG, Card Game...             nan   \n",
       "2  [Free to Play, Simulation, Sports, Casual, Ind...             nan   \n",
       "3                        [Action, Adventure, Casual]             0.8   \n",
       "4                    [Action, Indie, Casual, Sports]             1.8   \n",
       "\n",
       "                                         reviews_url  \\\n",
       "0  http://steamcommunity.com/app/761140/reviews/?...   \n",
       "1  http://steamcommunity.com/app/643980/reviews/?...   \n",
       "2  http://steamcommunity.com/app/670290/reviews/?...   \n",
       "3  http://steamcommunity.com/app/767400/reviews/?...   \n",
       "4  http://steamcommunity.com/app/773570/reviews/?...   \n",
       "\n",
       "                                               specs         price  \\\n",
       "0                                    [Single-player]           5.0   \n",
       "1  [Single-player, Multi-player, Online Multi-Pla...  Free To Play   \n",
       "2  [Single-player, Multi-player, Online Multi-Pla...  Free to Play   \n",
       "3                                    [Single-player]           1.0   \n",
       "4  [Single-player, Full controller support, HTC V...           3.0   \n",
       "\n",
       "   early_access      id         developer        sentiment metascore  \n",
       "0         False  761140         Kotoshiro              NaN       NaN  \n",
       "1         False  643980  Secret Level SRL  Mostly Positive       NaN  \n",
       "2         False  670290      Poolians.com  Mostly Positive       NaN  \n",
       "3         False  767400              彼岸领域              NaN       NaN  \n",
       "4         False  773570               NaN              NaN       NaN  "
      ]
     },
     "execution_count": 7,
     "metadata": {},
     "output_type": "execute_result"
    }
   ],
   "source": [
    "data_games.head()"
   ]
  },
  {
   "cell_type": "markdown",
   "metadata": {},
   "source": [
    "# EXPLORACIÓN DE DATOS - Analisis Exploratorio de Datos\n",
    "# Data Reviews \n",
    "\n",
    "*Las siguientes son las explicaciones de lo que aparece en cada columna del dataset:\n",
    "\n",
    "**Username**: Nombre del usuario.\n",
    "\n",
    "**hours**: Cantidad de horas jugadas (acumuladas).\n",
    "\n",
    "**products**: Cantidad de juegos probados.\n",
    "\n",
    "**product_id**: Identificacion númerica del juego.\n",
    "\n",
    "**page_order**: Número de página en el cual se encuentra el juego dentro de la plataforma.\n",
    "\n",
    "**date**: Fecha de la reseña.\n",
    "\n",
    "**text**: Comentario.\n",
    "\n",
    "**early_access**: Si se compro en la etapa de desarrollo.\n",
    "\n",
    "**page**: ??\n",
    "\n",
    "**user_id**: Identificación numérica del usuario.\n",
    "\n",
    "**found_funny**: Cantidad de calificaciones positivas creadas por otros usuarios.\n",
    "\n",
    "**compensation**: ??"
   ]
  },
  {
   "cell_type": "code",
   "execution_count": 8,
   "metadata": {},
   "outputs": [
    {
     "data": {
      "text/plain": [
       "username             0\n",
       "hours             2637\n",
       "products          1566\n",
       "product_id           0\n",
       "page_order           0\n",
       "date                 0\n",
       "text                 0\n",
       "early_access         0\n",
       "page                 0\n",
       "user_id         461967\n",
       "compensation    764719\n",
       "found_funny     659143\n",
       "dtype: int64"
      ]
     },
     "execution_count": 8,
     "metadata": {},
     "output_type": "execute_result"
    }
   ],
   "source": [
    "data_reviews.isna().sum()"
   ]
  },
  {
   "cell_type": "code",
   "execution_count": 9,
   "metadata": {},
   "outputs": [
    {
     "data": {
      "image/png": "[encoded data removed]",
      "text/plain": [
       "<Figure size 432x288 with 1 Axes>"
      ]
     },
     "metadata": {},
     "output_type": "display_data"
    },
    {
     "data": {
      "text/html": [
       "<div>\n",
       "<style scoped>\n",
       "    .dataframe tbody tr th:only-of-type {\n",
       "        vertical-align: middle;\n",
       "    }\n",
       "\n",
       "    .dataframe tbody tr th {\n",
       "        vertical-align: top;\n",
       "    }\n",
       "\n",
       "    .dataframe thead th {\n",
       "        text-align: right;\n",
       "    }\n",
       "</style>\n",
       "<table border=\"1\" class=\"dataframe\">\n",
       "  <thead>\n",
       "    <tr style=\"text-align: right;\">\n",
       "      <th></th>\n",
       "      <th>Total</th>\n",
       "      <th>Percent</th>\n",
       "    </tr>\n",
       "  </thead>\n",
       "  <tbody>\n",
       "    <tr>\n",
       "      <th>compensation</th>\n",
       "      <td>764719</td>\n",
       "      <td>98.1</td>\n",
       "    </tr>\n",
       "    <tr>\n",
       "      <th>found_funny</th>\n",
       "      <td>659143</td>\n",
       "      <td>84.6</td>\n",
       "    </tr>\n",
       "    <tr>\n",
       "      <th>user_id</th>\n",
       "      <td>461967</td>\n",
       "      <td>59.3</td>\n",
       "    </tr>\n",
       "    <tr>\n",
       "      <th>hours</th>\n",
       "      <td>2637</td>\n",
       "      <td>0.3</td>\n",
       "    </tr>\n",
       "    <tr>\n",
       "      <th>products</th>\n",
       "      <td>1566</td>\n",
       "      <td>0.2</td>\n",
       "    </tr>\n",
       "  </tbody>\n",
       "</table>\n",
       "</div>"
      ],
      "text/plain": [
       "               Total  Percent\n",
       "compensation  764719     98.1\n",
       "found_funny   659143     84.6\n",
       "user_id       461967     59.3\n",
       "hours           2637      0.3\n",
       "products        1566      0.2"
      ]
     },
     "execution_count": 9,
     "metadata": {},
     "output_type": "execute_result"
    }
   ],
   "source": [
    "#Valores faltantes\n",
    "missing=data_reviews.isna().sum()/len(data_reviews)*100\n",
    "#se crea otra serie para usar como variable independiente.\n",
    "columnas=data_reviews.columns\n",
    "##Gráfico\n",
    "sns.barplot(y=columnas, x = missing, palette=\"rocket\")\n",
    "plt.title(\"Gráfico I: Valores Faltantes\",fontsize=18)\n",
    "plt.xlabel(\"Cantidad\",fontsize=14)\n",
    "plt.ylabel(\"Columnas\",fontsize=14)\n",
    "ax = plt.axes()\n",
    "plt.grid(True,color='grey', linestyle='--', linewidth=0.5)\n",
    "ax.set_axisbelow(True)\n",
    "plt.show()\n",
    "def missing_percentage(df):\n",
    "    total = data_reviews.isnull().sum().sort_values(ascending = False)[data_reviews.isnull().sum().sort_values(ascending = False) != 0]\n",
    "    percent = round(data_reviews.isnull().sum().sort_values(ascending = False)/len(df)*100,2)[round(data_reviews.isnull().sum().sort_values(ascending = False)/len(data_reviews)*100,2) != 0]\n",
    "    return pd.concat([total, percent], axis=1, keys=['Total','Percent'])\n",
    "missing_percentage(data_reviews)"
   ]
  },
  {
   "cell_type": "markdown",
   "metadata": {},
   "source": [
    "Voy a descartar las dos columnas con mayores datos faltantes (Compensation y found_funny) ademas eliminare page_order ya que no brinda informacion que crea significativa"
   ]
  },
  {
   "cell_type": "code",
   "execution_count": 10,
   "metadata": {},
   "outputs": [
    {
     "data": {
      "text/plain": [
       "user_id          object\n",
       "username         object\n",
       "product_id       object\n",
       "text             object\n",
       "hours           float64\n",
       "products        float64\n",
       "date             object\n",
       "page              int64\n",
       "early_access       bool\n",
       "dtype: object"
      ]
     },
     "execution_count": 10,
     "metadata": {},
     "output_type": "execute_result"
    }
   ],
   "source": [
    "#tomo las columnas relevantes\n",
    "data_reviews=data_reviews[['user_id','username','product_id','text','hours','products','date','page','early_access']]\n",
    "\n",
    "#se eliminan los valores faltantes\n",
    "data_reviews.dropna(subset=['username'], how='all', inplace=True)\n",
    "data_reviews.dropna(subset=['text'], how='all', inplace=True)\n",
    "data_reviews.dropna(subset=['hours'], how='all', inplace=True)\n",
    "data_reviews.dropna(subset=['products'], how='all', inplace=True)\n",
    "\n",
    "#tipo de datos\n",
    "data_reviews.dtypes"
   ]
  },
  {
   "cell_type": "markdown",
   "metadata": {},
   "source": [
    "### Analizaremos las horas jugadas por review"
   ]
  },
  {
   "cell_type": "code",
   "execution_count": 11,
   "metadata": {},
   "outputs": [
    {
     "data": {
      "text/plain": [
       "count   775105.0\n",
       "mean       112.0\n",
       "std        390.0\n",
       "min          0.0\n",
       "25%          4.0\n",
       "50%         15.0\n",
       "75%         60.0\n",
       "max      28164.0\n",
       "Name: hours, dtype: float64"
      ]
     },
     "execution_count": 11,
     "metadata": {},
     "output_type": "execute_result"
    }
   ],
   "source": [
    "data_reviews.hours.describe().round()"
   ]
  },
  {
   "cell_type": "markdown",
   "metadata": {},
   "source": [
    "Se puede ver la presencia de posibles outliers ya que tenemos una media de 112 horas con una maxima de 28164 horas por lo que a continuacion lo trataremos en el grafico para poder analizarlo."
   ]
  },
  {
   "cell_type": "code",
   "execution_count": 12,
   "metadata": {},
   "outputs": [
    {
     "data": {
      "image/png": "[encoded data removed]",
      "text/plain": [
       "<Figure size 1080x360 with 2 Axes>"
      ]
     },
     "metadata": {},
     "output_type": "display_data"
    }
   ],
   "source": [
    "#Boxplot Hours\n",
    "fig=plt.figure(figsize=(15,5))\n",
    "plt.suptitle('Gráfico II: Horas de juego al comentar',fontsize=20, ha='center')\n",
    "ax1=fig.add_subplot(1,2,1)\n",
    "ax2=fig.add_subplot(1,2,2)\n",
    "sns.boxplot(data = data_reviews,x='hours',showfliers=True,showmeans=True,meanprops={\"marker\":\"o\",\"markerfacecolor\":\"white\", \"markeredgecolor\":\"black\"}, ax=ax1)\n",
    "sns.boxplot(data = data_reviews,x='hours',showfliers=False,showmeans=True,meanprops={\"marker\":\"o\",\"markerfacecolor\":\"white\", \"markeredgecolor\":\"black\"}, ax=ax2)\n",
    "ax1.set_title(\"Gráfico II.a: Hours con Outliers\",fontsize=16)\n",
    "ax2.set_title(\"Gráfico II.b: Hours sin Outliers\",fontsize=16)\n",
    "ax1.set_xlabel('Hours',fontsize=16)\n",
    "ax2.set_xlabel('Hours',fontsize=16)\n",
    "fig.subplots_adjust(top=0.8)\n",
    "plt.show()"
   ]
  },
  {
   "cell_type": "code",
   "execution_count": 13,
   "metadata": {},
   "outputs": [
    {
     "data": {
      "image/png": "[encoded data removed]",
      "text/plain": [
       "<Figure size 432x288 with 1 Axes>"
      ]
     },
     "metadata": {},
     "output_type": "display_data"
    }
   ],
   "source": [
    "sns.set_style(\"whitegrid\")\n",
    "x = data_reviews.hours\n",
    "ax = sns.distplot(x, fit=norm, kde=False, bins=5)"
   ]
  },
  {
   "cell_type": "markdown",
   "metadata": {},
   "source": [
    "En el grafico anterior podemos ver que hay una marcada cola hacia la derecha por lo que deberiamos utilizar la mediana para ser mas representativos con respecto a los datos de las horas jugadas, el cual es 15 horas."
   ]
  },
  {
   "cell_type": "markdown",
   "metadata": {},
   "source": [
    "Para saber si es util eliminarlos o no, cuantificaremos esos posibles outliers para ver si son utiles en cuanto a nuestro analisis."
   ]
  },
  {
   "cell_type": "code",
   "execution_count": 14,
   "metadata": {},
   "outputs": [
    {
     "data": {
      "image/png": "[encoded data removed]",
      "text/plain": [
       "<Figure size 432x288 with 1 Axes>"
      ]
     },
     "metadata": {},
     "output_type": "display_data"
    }
   ],
   "source": [
    "menorQue10=len(data_reviews[data_reviews.hours<10])\n",
    "menorQue20=len(data_reviews[(data_reviews.hours>10)&(data_reviews.hours<20)])\n",
    "mayorQue50=len(data_reviews[(data_reviews.hours>50)&(data_reviews.hours<100)])\n",
    "mayoresQue100=len(data_reviews[data_reviews.hours>100])\n",
    "\n",
    "# Pie chart, where the slices will be ordered and plotted counter-clockwise:\n",
    "labels = ['<10', '<20', '>50', '>100']\n",
    "sizes = [menorQue10, menorQue20, mayorQue50, mayoresQue100]\n",
    "explode = (0, 0.1, 0, 0)  # only \"explode\" the 2nd slice (i.e. 'Hogs')\n",
    "\n",
    "fig1, ax1 = plt.subplots()\n",
    "ax1.pie(sizes, explode=explode, labels=labels, autopct='%1.1f%%',\n",
    "        shadow=True, startangle=90)\n",
    "ax1.axis('equal')  # Equal aspect ratio ensures that pie is drawn as a circle.\n",
    "\n",
    "plt.show()"
   ]
  },
  {
   "cell_type": "markdown",
   "metadata": {},
   "source": [
    "Creo que al descartar los valores mayores a 100 (22%) perderia mucha informacion, asi que no los tratare como outliers."
   ]
  },
  {
   "cell_type": "markdown",
   "metadata": {},
   "source": [
    "### Analizaremos a continuacion el user_id"
   ]
  },
  {
   "cell_type": "code",
   "execution_count": 15,
   "metadata": {},
   "outputs": [
    {
     "name": "stdout",
     "output_type": "stream",
     "text": [
      "260507\n",
      "537742\n"
     ]
    }
   ],
   "source": [
    "print(data_reviews.user_id.nunique())\n",
    "print(data_reviews.username.nunique())"
   ]
  },
  {
   "cell_type": "code",
   "execution_count": 16,
   "metadata": {},
   "outputs": [
    {
     "name": "stdout",
     "output_type": "stream",
     "text": [
      "76561198011965365    114\n",
      "76561198094803808     88\n",
      "76561197969749884     70\n",
      "76561198094321628     62\n",
      "76561198073092169     57\n",
      "                    ... \n",
      "76561198121314841      1\n",
      "76561198231667584      1\n",
      "76561198027780286      1\n",
      "76561198308868538      1\n",
      "76561197994402473      1\n",
      "Name: user_id, Length: 260507, dtype: int64\n"
     ]
    }
   ],
   "source": [
    "print(data_reviews['user_id'].value_counts())"
   ]
  },
  {
   "cell_type": "code",
   "execution_count": 17,
   "metadata": {},
   "outputs": [
    {
     "name": "stdout",
     "output_type": "stream",
     "text": [
      "123                  213\n",
      "Alex                 189\n",
      "Chris                154\n",
      "Nick                 142\n",
      "Matt                 137\n",
      "                    ... \n",
      "Gunner™ (G.E.W.P)      1\n",
      "BIG BIRCHY             1\n",
      "Shrymp                 1\n",
      "pbppbp17               1\n",
      "Karranao               1\n",
      "Name: username, Length: 537742, dtype: int64\n"
     ]
    }
   ],
   "source": [
    "print(data_reviews['username'].value_counts())"
   ]
  },
  {
   "cell_type": "markdown",
   "metadata": {},
   "source": [
    "Hay muchos user_id que tienen varios usernames por lo que no podriamos utilizarlos directamente. Al haber tantos valores faltantes en user_id lo que podriamos hacer es generar un valor unico por cada username y asi solucionar los NaN de esta columna."
   ]
  },
  {
   "cell_type": "code",
   "execution_count": 18,
   "metadata": {},
   "outputs": [
    {
     "data": {
      "text/html": [
       "<div>\n",
       "<style scoped>\n",
       "    .dataframe tbody tr th:only-of-type {\n",
       "        vertical-align: middle;\n",
       "    }\n",
       "\n",
       "    .dataframe tbody tr th {\n",
       "        vertical-align: top;\n",
       "    }\n",
       "\n",
       "    .dataframe thead th {\n",
       "        text-align: right;\n",
       "    }\n",
       "</style>\n",
       "<table border=\"1\" class=\"dataframe\">\n",
       "  <thead>\n",
       "    <tr style=\"text-align: right;\">\n",
       "      <th></th>\n",
       "      <th>username</th>\n",
       "      <th>user_id</th>\n",
       "    </tr>\n",
       "  </thead>\n",
       "  <tbody>\n",
       "    <tr>\n",
       "      <th>0</th>\n",
       "      <td>Chaos Syren</td>\n",
       "      <td>1</td>\n",
       "    </tr>\n",
       "    <tr>\n",
       "      <th>1</th>\n",
       "      <td>Ariman1</td>\n",
       "      <td>2</td>\n",
       "    </tr>\n",
       "    <tr>\n",
       "      <th>2</th>\n",
       "      <td>freakfantom</td>\n",
       "      <td>3</td>\n",
       "    </tr>\n",
       "    <tr>\n",
       "      <th>3</th>\n",
       "      <td>The_Cpt_FROGGY</td>\n",
       "      <td>4</td>\n",
       "    </tr>\n",
       "    <tr>\n",
       "      <th>4</th>\n",
       "      <td>the_maker988</td>\n",
       "      <td>5</td>\n",
       "    </tr>\n",
       "    <tr>\n",
       "      <th>...</th>\n",
       "      <td>...</td>\n",
       "      <td>...</td>\n",
       "    </tr>\n",
       "    <tr>\n",
       "      <th>537737</th>\n",
       "      <td>Seikleja</td>\n",
       "      <td>537738</td>\n",
       "    </tr>\n",
       "    <tr>\n",
       "      <th>537738</th>\n",
       "      <td>KindAlcoholic</td>\n",
       "      <td>537739</td>\n",
       "    </tr>\n",
       "    <tr>\n",
       "      <th>537739</th>\n",
       "      <td>SepticFalcon</td>\n",
       "      <td>537740</td>\n",
       "    </tr>\n",
       "    <tr>\n",
       "      <th>537740</th>\n",
       "      <td>RancorZealot</td>\n",
       "      <td>537741</td>\n",
       "    </tr>\n",
       "    <tr>\n",
       "      <th>537741</th>\n",
       "      <td>Helk</td>\n",
       "      <td>537742</td>\n",
       "    </tr>\n",
       "  </tbody>\n",
       "</table>\n",
       "<p>537742 rows × 2 columns</p>\n",
       "</div>"
      ],
      "text/plain": [
       "              username  user_id\n",
       "0          Chaos Syren        1\n",
       "1              Ariman1        2\n",
       "2          freakfantom        3\n",
       "3       The_Cpt_FROGGY        4\n",
       "4         the_maker988        5\n",
       "...                ...      ...\n",
       "537737        Seikleja   537738\n",
       "537738   KindAlcoholic   537739\n",
       "537739    SepticFalcon   537740\n",
       "537740    RancorZealot   537741\n",
       "537741            Helk   537742\n",
       "\n",
       "[537742 rows x 2 columns]"
      ]
     },
     "execution_count": 18,
     "metadata": {},
     "output_type": "execute_result"
    }
   ],
   "source": [
    "usuarios=data_reviews['username'].unique()\n",
    "usr_unico=pd.DataFrame(usuarios,columns=['username'])   \n",
    "finRango=len(usr_unico)+1\n",
    "user_id=np.array(range(1,finRango,1))\n",
    "usr_unico['user_id']=user_id\n",
    "usr_unico"
   ]
  },
  {
   "cell_type": "markdown",
   "metadata": {},
   "source": [
    "Voy a crear una copia del dataset para comenzar a hacerlo mas liviano y dejar solo las columnas que me van a servir luego y a su vez agregarle la columna con el id unico realizado anteriormente."
   ]
  },
  {
   "cell_type": "code",
   "execution_count": 19,
   "metadata": {},
   "outputs": [],
   "source": [
    "reviews = data_reviews"
   ]
  },
  {
   "cell_type": "code",
   "execution_count": 20,
   "metadata": {},
   "outputs": [
    {
     "data": {
      "text/html": [
       "<div>\n",
       "<style scoped>\n",
       "    .dataframe tbody tr th:only-of-type {\n",
       "        vertical-align: middle;\n",
       "    }\n",
       "\n",
       "    .dataframe tbody tr th {\n",
       "        vertical-align: top;\n",
       "    }\n",
       "\n",
       "    .dataframe thead th {\n",
       "        text-align: right;\n",
       "    }\n",
       "</style>\n",
       "<table border=\"1\" class=\"dataframe\">\n",
       "  <thead>\n",
       "    <tr style=\"text-align: right;\">\n",
       "      <th></th>\n",
       "      <th>username</th>\n",
       "      <th>product_id</th>\n",
       "      <th>hours</th>\n",
       "    </tr>\n",
       "  </thead>\n",
       "  <tbody>\n",
       "    <tr>\n",
       "      <th>0</th>\n",
       "      <td>Chaos Syren</td>\n",
       "      <td>725280</td>\n",
       "      <td>0.1</td>\n",
       "    </tr>\n",
       "    <tr>\n",
       "      <th>1</th>\n",
       "      <td>Ariman1</td>\n",
       "      <td>328100</td>\n",
       "      <td>13.2</td>\n",
       "    </tr>\n",
       "    <tr>\n",
       "      <th>2</th>\n",
       "      <td>freakfantom</td>\n",
       "      <td>725280</td>\n",
       "      <td>0.1</td>\n",
       "    </tr>\n",
       "    <tr>\n",
       "      <th>3</th>\n",
       "      <td>The_Cpt_FROGGY</td>\n",
       "      <td>631920</td>\n",
       "      <td>7.8</td>\n",
       "    </tr>\n",
       "    <tr>\n",
       "      <th>4</th>\n",
       "      <td>the_maker988</td>\n",
       "      <td>35140</td>\n",
       "      <td>8.2</td>\n",
       "    </tr>\n",
       "  </tbody>\n",
       "</table>\n",
       "</div>"
      ],
      "text/plain": [
       "         username product_id  hours\n",
       "0     Chaos Syren     725280    0.1\n",
       "1         Ariman1     328100   13.2\n",
       "2     freakfantom     725280    0.1\n",
       "3  The_Cpt_FROGGY     631920    7.8\n",
       "4    the_maker988      35140    8.2"
      ]
     },
     "execution_count": 20,
     "metadata": {},
     "output_type": "execute_result"
    }
   ],
   "source": [
    "reviews.drop(['date', 'products','text','early_access','page', 'user_id'], axis=1, inplace=True)\n",
    "reviews.head()"
   ]
  },
  {
   "cell_type": "code",
   "execution_count": 21,
   "metadata": {},
   "outputs": [
    {
     "data": {
      "text/html": [
       "<div>\n",
       "<style scoped>\n",
       "    .dataframe tbody tr th:only-of-type {\n",
       "        vertical-align: middle;\n",
       "    }\n",
       "\n",
       "    .dataframe tbody tr th {\n",
       "        vertical-align: top;\n",
       "    }\n",
       "\n",
       "    .dataframe thead th {\n",
       "        text-align: right;\n",
       "    }\n",
       "</style>\n",
       "<table border=\"1\" class=\"dataframe\">\n",
       "  <thead>\n",
       "    <tr style=\"text-align: right;\">\n",
       "      <th></th>\n",
       "      <th>username</th>\n",
       "      <th>product_id</th>\n",
       "      <th>hours</th>\n",
       "      <th>user_id</th>\n",
       "    </tr>\n",
       "  </thead>\n",
       "  <tbody>\n",
       "    <tr>\n",
       "      <th>0</th>\n",
       "      <td>Chaos Syren</td>\n",
       "      <td>725280</td>\n",
       "      <td>0.1</td>\n",
       "      <td>1</td>\n",
       "    </tr>\n",
       "    <tr>\n",
       "      <th>1</th>\n",
       "      <td>Ariman1</td>\n",
       "      <td>328100</td>\n",
       "      <td>13.2</td>\n",
       "      <td>2</td>\n",
       "    </tr>\n",
       "    <tr>\n",
       "      <th>2</th>\n",
       "      <td>Ariman1</td>\n",
       "      <td>521230</td>\n",
       "      <td>0.5</td>\n",
       "      <td>2</td>\n",
       "    </tr>\n",
       "    <tr>\n",
       "      <th>3</th>\n",
       "      <td>Ariman1</td>\n",
       "      <td>493980</td>\n",
       "      <td>2.0</td>\n",
       "      <td>2</td>\n",
       "    </tr>\n",
       "    <tr>\n",
       "      <th>4</th>\n",
       "      <td>freakfantom</td>\n",
       "      <td>725280</td>\n",
       "      <td>0.1</td>\n",
       "      <td>3</td>\n",
       "    </tr>\n",
       "    <tr>\n",
       "      <th>...</th>\n",
       "      <td>...</td>\n",
       "      <td>...</td>\n",
       "      <td>...</td>\n",
       "      <td>...</td>\n",
       "    </tr>\n",
       "    <tr>\n",
       "      <th>775100</th>\n",
       "      <td>Seikleja</td>\n",
       "      <td>252490</td>\n",
       "      <td>80.8</td>\n",
       "      <td>537738</td>\n",
       "    </tr>\n",
       "    <tr>\n",
       "      <th>775101</th>\n",
       "      <td>KindAlcoholic</td>\n",
       "      <td>252490</td>\n",
       "      <td>1303.6</td>\n",
       "      <td>537739</td>\n",
       "    </tr>\n",
       "    <tr>\n",
       "      <th>775102</th>\n",
       "      <td>SepticFalcon</td>\n",
       "      <td>252490</td>\n",
       "      <td>334.9</td>\n",
       "      <td>537740</td>\n",
       "    </tr>\n",
       "    <tr>\n",
       "      <th>775103</th>\n",
       "      <td>RancorZealot</td>\n",
       "      <td>252490</td>\n",
       "      <td>203.5</td>\n",
       "      <td>537741</td>\n",
       "    </tr>\n",
       "    <tr>\n",
       "      <th>775104</th>\n",
       "      <td>Helk</td>\n",
       "      <td>252490</td>\n",
       "      <td>15375.0</td>\n",
       "      <td>537742</td>\n",
       "    </tr>\n",
       "  </tbody>\n",
       "</table>\n",
       "<p>775105 rows × 4 columns</p>\n",
       "</div>"
      ],
      "text/plain": [
       "             username product_id   hours  user_id\n",
       "0         Chaos Syren     725280     0.1        1\n",
       "1             Ariman1     328100    13.2        2\n",
       "2             Ariman1     521230     0.5        2\n",
       "3             Ariman1     493980     2.0        2\n",
       "4         freakfantom     725280     0.1        3\n",
       "...               ...        ...     ...      ...\n",
       "775100       Seikleja     252490    80.8   537738\n",
       "775101  KindAlcoholic     252490  1303.6   537739\n",
       "775102   SepticFalcon     252490   334.9   537740\n",
       "775103   RancorZealot     252490   203.5   537741\n",
       "775104           Helk     252490 15375.0   537742\n",
       "\n",
       "[775105 rows x 4 columns]"
      ]
     },
     "execution_count": 21,
     "metadata": {},
     "output_type": "execute_result"
    }
   ],
   "source": [
    "reviews=reviews.merge(usr_unico, left_on='username', right_on='username')\n",
    "reviews"
   ]
  },
  {
   "cell_type": "markdown",
   "metadata": {},
   "source": [
    "# Games"
   ]
  },
  {
   "cell_type": "code",
   "execution_count": 22,
   "metadata": {},
   "outputs": [
    {
     "data": {
      "text/plain": [
       "publisher          8052\n",
       "genres             3283\n",
       "app_name              2\n",
       "title              2050\n",
       "url                   0\n",
       "release_date       2067\n",
       "tags                163\n",
       "discount_price    31910\n",
       "reviews_url           2\n",
       "specs               670\n",
       "price              1377\n",
       "early_access          0\n",
       "id                    2\n",
       "developer          3299\n",
       "sentiment          7182\n",
       "metascore         29458\n",
       "dtype: int64"
      ]
     },
     "execution_count": 22,
     "metadata": {},
     "output_type": "execute_result"
    }
   ],
   "source": [
    "data_games.isna().sum()"
   ]
  },
  {
   "cell_type": "code",
   "execution_count": 23,
   "metadata": {},
   "outputs": [
    {
     "data": {
      "image/png": "[encoded data removed]",
      "text/plain": [
       "<Figure size 432x288 with 1 Axes>"
      ]
     },
     "metadata": {},
     "output_type": "display_data"
    },
    {
     "data": {
      "text/html": [
       "<div>\n",
       "<style scoped>\n",
       "    .dataframe tbody tr th:only-of-type {\n",
       "        vertical-align: middle;\n",
       "    }\n",
       "\n",
       "    .dataframe tbody tr th {\n",
       "        vertical-align: top;\n",
       "    }\n",
       "\n",
       "    .dataframe thead th {\n",
       "        text-align: right;\n",
       "    }\n",
       "</style>\n",
       "<table border=\"1\" class=\"dataframe\">\n",
       "  <thead>\n",
       "    <tr style=\"text-align: right;\">\n",
       "      <th></th>\n",
       "      <th>Total</th>\n",
       "      <th>Percent</th>\n",
       "    </tr>\n",
       "  </thead>\n",
       "  <tbody>\n",
       "    <tr>\n",
       "      <th>discount_price</th>\n",
       "      <td>31910</td>\n",
       "      <td>99.3</td>\n",
       "    </tr>\n",
       "    <tr>\n",
       "      <th>metascore</th>\n",
       "      <td>29458</td>\n",
       "      <td>91.7</td>\n",
       "    </tr>\n",
       "    <tr>\n",
       "      <th>publisher</th>\n",
       "      <td>8052</td>\n",
       "      <td>25.1</td>\n",
       "    </tr>\n",
       "    <tr>\n",
       "      <th>sentiment</th>\n",
       "      <td>7182</td>\n",
       "      <td>22.4</td>\n",
       "    </tr>\n",
       "    <tr>\n",
       "      <th>developer</th>\n",
       "      <td>3299</td>\n",
       "      <td>10.3</td>\n",
       "    </tr>\n",
       "    <tr>\n",
       "      <th>genres</th>\n",
       "      <td>3283</td>\n",
       "      <td>10.2</td>\n",
       "    </tr>\n",
       "    <tr>\n",
       "      <th>release_date</th>\n",
       "      <td>2067</td>\n",
       "      <td>6.4</td>\n",
       "    </tr>\n",
       "    <tr>\n",
       "      <th>title</th>\n",
       "      <td>2050</td>\n",
       "      <td>6.4</td>\n",
       "    </tr>\n",
       "    <tr>\n",
       "      <th>price</th>\n",
       "      <td>1377</td>\n",
       "      <td>4.3</td>\n",
       "    </tr>\n",
       "    <tr>\n",
       "      <th>specs</th>\n",
       "      <td>670</td>\n",
       "      <td>2.1</td>\n",
       "    </tr>\n",
       "    <tr>\n",
       "      <th>tags</th>\n",
       "      <td>163</td>\n",
       "      <td>0.5</td>\n",
       "    </tr>\n",
       "    <tr>\n",
       "      <th>id</th>\n",
       "      <td>2</td>\n",
       "      <td>0.0</td>\n",
       "    </tr>\n",
       "    <tr>\n",
       "      <th>reviews_url</th>\n",
       "      <td>2</td>\n",
       "      <td>0.0</td>\n",
       "    </tr>\n",
       "    <tr>\n",
       "      <th>app_name</th>\n",
       "      <td>2</td>\n",
       "      <td>0.0</td>\n",
       "    </tr>\n",
       "  </tbody>\n",
       "</table>\n",
       "</div>"
      ],
      "text/plain": [
       "                Total  Percent\n",
       "discount_price  31910     99.3\n",
       "metascore       29458     91.7\n",
       "publisher        8052     25.1\n",
       "sentiment        7182     22.4\n",
       "developer        3299     10.3\n",
       "genres           3283     10.2\n",
       "release_date     2067      6.4\n",
       "title            2050      6.4\n",
       "price            1377      4.3\n",
       "specs             670      2.1\n",
       "tags              163      0.5\n",
       "id                  2      0.0\n",
       "reviews_url         2      0.0\n",
       "app_name            2      0.0"
      ]
     },
     "execution_count": 23,
     "metadata": {},
     "output_type": "execute_result"
    }
   ],
   "source": [
    "#Valores faltantes\n",
    "missing=data_games.isna().sum()/len(data_games)*100\n",
    "#se crea otra serie para usar como variable independiente.\n",
    "columnas=data_games.columns\n",
    "\n",
    "##Gráfico\n",
    "sns.barplot(y=columnas, x = missing, palette=\"rocket\")\n",
    "plt.title(\"Gráfico IV: Valores Faltantes\",fontsize=18)\n",
    "plt.xlabel(\"Cantidad\",fontsize=14)\n",
    "plt.ylabel(\"Columnas\",fontsize=14)\n",
    "ax = plt.axes()\n",
    "plt.grid(True,color='grey', linestyle='--', linewidth=0.5)\n",
    "ax.set_axisbelow(True)\n",
    "plt.show()\n",
    "\n",
    "def missing_percentage(df):\n",
    "    total = data_games.isnull().sum().sort_values(ascending = False)[data_games.isnull().sum().sort_values(ascending = False) != 0]\n",
    "    percent = round(data_games.isnull().sum().sort_values(ascending = False)/len(df)*100,2)[round(data_games.isnull().sum().sort_values(ascending = False)/len(data_games)*100,2) != 0]\n",
    "    return pd.concat([total, percent], axis=1, keys=['Total','Percent'])\n",
    "missing_percentage(data_games)"
   ]
  },
  {
   "cell_type": "markdown",
   "metadata": {},
   "source": [
    "Seleccionare las columnas relevantes para el proyecto y las demas las descartare"
   ]
  },
  {
   "cell_type": "code",
   "execution_count": 24,
   "metadata": {},
   "outputs": [
    {
     "data": {
      "text/html": [
       "<div>\n",
       "<style scoped>\n",
       "    .dataframe tbody tr th:only-of-type {\n",
       "        vertical-align: middle;\n",
       "    }\n",
       "\n",
       "    .dataframe tbody tr th {\n",
       "        vertical-align: top;\n",
       "    }\n",
       "\n",
       "    .dataframe thead th {\n",
       "        text-align: right;\n",
       "    }\n",
       "</style>\n",
       "<table border=\"1\" class=\"dataframe\">\n",
       "  <thead>\n",
       "    <tr style=\"text-align: right;\">\n",
       "      <th></th>\n",
       "      <th>id</th>\n",
       "      <th>app_name</th>\n",
       "      <th>title</th>\n",
       "      <th>developer</th>\n",
       "      <th>publisher</th>\n",
       "      <th>sentiment</th>\n",
       "      <th>release_date</th>\n",
       "      <th>genres</th>\n",
       "      <th>specs</th>\n",
       "      <th>tags</th>\n",
       "      <th>price</th>\n",
       "    </tr>\n",
       "  </thead>\n",
       "  <tbody>\n",
       "    <tr>\n",
       "      <th>0</th>\n",
       "      <td>761140</td>\n",
       "      <td>Lost Summoner Kitty</td>\n",
       "      <td>Lost Summoner Kitty</td>\n",
       "      <td>Kotoshiro</td>\n",
       "      <td>Kotoshiro</td>\n",
       "      <td>NaN</td>\n",
       "      <td>2018-01-04</td>\n",
       "      <td>[Action, Casual, Indie, Simulation, Strategy]</td>\n",
       "      <td>[Single-player]</td>\n",
       "      <td>[Strategy, Action, Indie, Casual, Simulation]</td>\n",
       "      <td>5.0</td>\n",
       "    </tr>\n",
       "    <tr>\n",
       "      <th>1</th>\n",
       "      <td>643980</td>\n",
       "      <td>Ironbound</td>\n",
       "      <td>Ironbound</td>\n",
       "      <td>Secret Level SRL</td>\n",
       "      <td>Making Fun, Inc.</td>\n",
       "      <td>Mostly Positive</td>\n",
       "      <td>2018-01-04</td>\n",
       "      <td>[Free to Play, Indie, RPG, Strategy]</td>\n",
       "      <td>[Single-player, Multi-player, Online Multi-Pla...</td>\n",
       "      <td>[Free to Play, Strategy, Indie, RPG, Card Game...</td>\n",
       "      <td>Free To Play</td>\n",
       "    </tr>\n",
       "    <tr>\n",
       "      <th>2</th>\n",
       "      <td>670290</td>\n",
       "      <td>Real Pool 3D - Poolians</td>\n",
       "      <td>Real Pool 3D - Poolians</td>\n",
       "      <td>Poolians.com</td>\n",
       "      <td>Poolians.com</td>\n",
       "      <td>Mostly Positive</td>\n",
       "      <td>2017-07-24</td>\n",
       "      <td>[Casual, Free to Play, Indie, Simulation, Sports]</td>\n",
       "      <td>[Single-player, Multi-player, Online Multi-Pla...</td>\n",
       "      <td>[Free to Play, Simulation, Sports, Casual, Ind...</td>\n",
       "      <td>Free to Play</td>\n",
       "    </tr>\n",
       "    <tr>\n",
       "      <th>3</th>\n",
       "      <td>767400</td>\n",
       "      <td>弹炸人2222</td>\n",
       "      <td>弹炸人2222</td>\n",
       "      <td>彼岸领域</td>\n",
       "      <td>彼岸领域</td>\n",
       "      <td>NaN</td>\n",
       "      <td>2017-12-07</td>\n",
       "      <td>[Action, Adventure, Casual]</td>\n",
       "      <td>[Single-player]</td>\n",
       "      <td>[Action, Adventure, Casual]</td>\n",
       "      <td>1.0</td>\n",
       "    </tr>\n",
       "    <tr>\n",
       "      <th>4</th>\n",
       "      <td>773570</td>\n",
       "      <td>Log Challenge</td>\n",
       "      <td>NaN</td>\n",
       "      <td>NaN</td>\n",
       "      <td>NaN</td>\n",
       "      <td>NaN</td>\n",
       "      <td>NaN</td>\n",
       "      <td>NaN</td>\n",
       "      <td>[Single-player, Full controller support, HTC V...</td>\n",
       "      <td>[Action, Indie, Casual, Sports]</td>\n",
       "      <td>3.0</td>\n",
       "    </tr>\n",
       "  </tbody>\n",
       "</table>\n",
       "</div>"
      ],
      "text/plain": [
       "       id                 app_name                    title         developer  \\\n",
       "0  761140      Lost Summoner Kitty      Lost Summoner Kitty         Kotoshiro   \n",
       "1  643980                Ironbound                Ironbound  Secret Level SRL   \n",
       "2  670290  Real Pool 3D - Poolians  Real Pool 3D - Poolians      Poolians.com   \n",
       "3  767400                  弹炸人2222                  弹炸人2222              彼岸领域   \n",
       "4  773570            Log Challenge                      NaN               NaN   \n",
       "\n",
       "          publisher        sentiment release_date  \\\n",
       "0         Kotoshiro              NaN   2018-01-04   \n",
       "1  Making Fun, Inc.  Mostly Positive   2018-01-04   \n",
       "2      Poolians.com  Mostly Positive   2017-07-24   \n",
       "3              彼岸领域              NaN   2017-12-07   \n",
       "4               NaN              NaN          NaN   \n",
       "\n",
       "                                              genres  \\\n",
       "0      [Action, Casual, Indie, Simulation, Strategy]   \n",
       "1               [Free to Play, Indie, RPG, Strategy]   \n",
       "2  [Casual, Free to Play, Indie, Simulation, Sports]   \n",
       "3                        [Action, Adventure, Casual]   \n",
       "4                                                NaN   \n",
       "\n",
       "                                               specs  \\\n",
       "0                                    [Single-player]   \n",
       "1  [Single-player, Multi-player, Online Multi-Pla...   \n",
       "2  [Single-player, Multi-player, Online Multi-Pla...   \n",
       "3                                    [Single-player]   \n",
       "4  [Single-player, Full controller support, HTC V...   \n",
       "\n",
       "                                                tags         price  \n",
       "0      [Strategy, Action, Indie, Casual, Simulation]           5.0  \n",
       "1  [Free to Play, Strategy, Indie, RPG, Card Game...  Free To Play  \n",
       "2  [Free to Play, Simulation, Sports, Casual, Ind...  Free to Play  \n",
       "3                        [Action, Adventure, Casual]           1.0  \n",
       "4                    [Action, Indie, Casual, Sports]           3.0  "
      ]
     },
     "execution_count": 24,
     "metadata": {},
     "output_type": "execute_result"
    }
   ],
   "source": [
    "games=data_games\n",
    "games=games[['id','app_name','title','developer','publisher','sentiment','release_date','genres','specs','tags','price']]\n",
    "games.head()"
   ]
  },
  {
   "cell_type": "markdown",
   "metadata": {},
   "source": [
    "Veremos cuantos juegos hay en total"
   ]
  },
  {
   "cell_type": "code",
   "execution_count": 25,
   "metadata": {},
   "outputs": [
    {
     "data": {
      "text/plain": [
       "(32135, 11)"
      ]
     },
     "execution_count": 25,
     "metadata": {},
     "output_type": "execute_result"
    }
   ],
   "source": [
    "games.shape"
   ]
  },
  {
   "cell_type": "markdown",
   "metadata": {},
   "source": [
    "Podemos ver que hay 32135 juegos pero sabemos que hay dos datos faltantes en id por lo que serian 32135. A continuacion desecharemos las columnas que no usaremos y eliminaremos esos valores faltantes"
   ]
  },
  {
   "cell_type": "code",
   "execution_count": 26,
   "metadata": {},
   "outputs": [],
   "source": [
    "games.drop(columns=['title','publisher','genres','release_date','tags','specs','price','developer','sentiment'], inplace=True)\n",
    "games.dropna(inplace=True)"
   ]
  },
  {
   "cell_type": "code",
   "execution_count": 27,
   "metadata": {},
   "outputs": [
    {
     "data": {
      "text/html": [
       "<div>\n",
       "<style scoped>\n",
       "    .dataframe tbody tr th:only-of-type {\n",
       "        vertical-align: middle;\n",
       "    }\n",
       "\n",
       "    .dataframe tbody tr th {\n",
       "        vertical-align: top;\n",
       "    }\n",
       "\n",
       "    .dataframe thead th {\n",
       "        text-align: right;\n",
       "    }\n",
       "</style>\n",
       "<table border=\"1\" class=\"dataframe\">\n",
       "  <thead>\n",
       "    <tr style=\"text-align: right;\">\n",
       "      <th></th>\n",
       "      <th>id</th>\n",
       "      <th>app_name</th>\n",
       "    </tr>\n",
       "  </thead>\n",
       "  <tbody>\n",
       "    <tr>\n",
       "      <th>0</th>\n",
       "      <td>761140</td>\n",
       "      <td>Lost Summoner Kitty</td>\n",
       "    </tr>\n",
       "    <tr>\n",
       "      <th>1</th>\n",
       "      <td>643980</td>\n",
       "      <td>Ironbound</td>\n",
       "    </tr>\n",
       "    <tr>\n",
       "      <th>2</th>\n",
       "      <td>670290</td>\n",
       "      <td>Real Pool 3D - Poolians</td>\n",
       "    </tr>\n",
       "    <tr>\n",
       "      <th>3</th>\n",
       "      <td>767400</td>\n",
       "      <td>弹炸人2222</td>\n",
       "    </tr>\n",
       "    <tr>\n",
       "      <th>4</th>\n",
       "      <td>773570</td>\n",
       "      <td>Log Challenge</td>\n",
       "    </tr>\n",
       "  </tbody>\n",
       "</table>\n",
       "</div>"
      ],
      "text/plain": [
       "       id                 app_name\n",
       "0  761140      Lost Summoner Kitty\n",
       "1  643980                Ironbound\n",
       "2  670290  Real Pool 3D - Poolians\n",
       "3  767400                  弹炸人2222\n",
       "4  773570            Log Challenge"
      ]
     },
     "execution_count": 27,
     "metadata": {},
     "output_type": "execute_result"
    }
   ],
   "source": [
    "games.head()"
   ]
  },
  {
   "cell_type": "markdown",
   "metadata": {},
   "source": [
    "Por temas de prolijidad vamos a hacer que la columna del id del jugo se llame igual que en el dateset de reviws"
   ]
  },
  {
   "cell_type": "code",
   "execution_count": 28,
   "metadata": {},
   "outputs": [
    {
     "data": {
      "text/html": [
       "<div>\n",
       "<style scoped>\n",
       "    .dataframe tbody tr th:only-of-type {\n",
       "        vertical-align: middle;\n",
       "    }\n",
       "\n",
       "    .dataframe tbody tr th {\n",
       "        vertical-align: top;\n",
       "    }\n",
       "\n",
       "    .dataframe thead th {\n",
       "        text-align: right;\n",
       "    }\n",
       "</style>\n",
       "<table border=\"1\" class=\"dataframe\">\n",
       "  <thead>\n",
       "    <tr style=\"text-align: right;\">\n",
       "      <th></th>\n",
       "      <th>product_id</th>\n",
       "      <th>app_name</th>\n",
       "    </tr>\n",
       "  </thead>\n",
       "  <tbody>\n",
       "    <tr>\n",
       "      <th>0</th>\n",
       "      <td>761140</td>\n",
       "      <td>Lost Summoner Kitty</td>\n",
       "    </tr>\n",
       "    <tr>\n",
       "      <th>1</th>\n",
       "      <td>643980</td>\n",
       "      <td>Ironbound</td>\n",
       "    </tr>\n",
       "    <tr>\n",
       "      <th>2</th>\n",
       "      <td>670290</td>\n",
       "      <td>Real Pool 3D - Poolians</td>\n",
       "    </tr>\n",
       "    <tr>\n",
       "      <th>3</th>\n",
       "      <td>767400</td>\n",
       "      <td>弹炸人2222</td>\n",
       "    </tr>\n",
       "    <tr>\n",
       "      <th>4</th>\n",
       "      <td>773570</td>\n",
       "      <td>Log Challenge</td>\n",
       "    </tr>\n",
       "    <tr>\n",
       "      <th>...</th>\n",
       "      <td>...</td>\n",
       "      <td>...</td>\n",
       "    </tr>\n",
       "    <tr>\n",
       "      <th>32130</th>\n",
       "      <td>773640</td>\n",
       "      <td>Colony On Mars</td>\n",
       "    </tr>\n",
       "    <tr>\n",
       "      <th>32131</th>\n",
       "      <td>733530</td>\n",
       "      <td>LOGistICAL: South Africa</td>\n",
       "    </tr>\n",
       "    <tr>\n",
       "      <th>32132</th>\n",
       "      <td>610660</td>\n",
       "      <td>Russian Roads</td>\n",
       "    </tr>\n",
       "    <tr>\n",
       "      <th>32133</th>\n",
       "      <td>658870</td>\n",
       "      <td>EXIT 2 - Directions</td>\n",
       "    </tr>\n",
       "    <tr>\n",
       "      <th>32134</th>\n",
       "      <td>681550</td>\n",
       "      <td>Maze Run VR</td>\n",
       "    </tr>\n",
       "  </tbody>\n",
       "</table>\n",
       "<p>32132 rows × 2 columns</p>\n",
       "</div>"
      ],
      "text/plain": [
       "      product_id                  app_name\n",
       "0         761140       Lost Summoner Kitty\n",
       "1         643980                 Ironbound\n",
       "2         670290   Real Pool 3D - Poolians\n",
       "3         767400                   弹炸人2222\n",
       "4         773570             Log Challenge\n",
       "...          ...                       ...\n",
       "32130     773640            Colony On Mars\n",
       "32131     733530  LOGistICAL: South Africa\n",
       "32132     610660             Russian Roads\n",
       "32133     658870       EXIT 2 - Directions\n",
       "32134     681550               Maze Run VR\n",
       "\n",
       "[32132 rows x 2 columns]"
      ]
     },
     "execution_count": 28,
     "metadata": {},
     "output_type": "execute_result"
    }
   ],
   "source": [
    "games.rename(columns={'id': 'product_id'}, inplace=True)\n",
    "games"
   ]
  },
  {
   "cell_type": "markdown",
   "metadata": {},
   "source": [
    "# Modelo de machine learning (Desarrollo de sistema de recomendacion)"
   ]
  },
  {
   "cell_type": "markdown",
   "metadata": {},
   "source": [
    "### Seleccion de la metrica\n",
    "Basado en la informacion que obtuvimos en el analisis de los datos y en la teoria sobre las distintas metricas a utilizar, primero pense que seria mejor utilizar el MAe por la variabilidad que veiamos en las horas jugadas, pero al ver que utilizaremos un ranking de esas horas, la variabilidad baja considerablemente ya que tendremos una escala nueva y por eso tomare el RMSE."
   ]
  },
  {
   "cell_type": "markdown",
   "metadata": {},
   "source": [
    "### Creacion de la columna Rating"
   ]
  },
  {
   "cell_type": "code",
   "execution_count": 29,
   "metadata": {},
   "outputs": [],
   "source": [
    "#creo el rating\n",
    "#mapeo\n",
    "grouped=reviews.groupby('user_id').median().sort_values(('hours'),ascending=False).head(20)\n",
    "\n",
    "#reorganizacion de columnas\n",
    "encod_type = reviews.groupby('user_id')['hours'].median()\n",
    "reviews.loc[:, 'median_hours'] = reviews['user_id'].map(encod_type)\n",
    "\n",
    "reviews.dropna(subset=['user_id'], how='all', inplace=True)\n",
    "reviews['rating'] = np.where(reviews['hours']>=reviews['median_hours'], 1, 0)\n",
    "reviews['rating'] = reviews['rating'].astype(np.uint8)\n",
    "reviews = reviews.reset_index(drop=True)"
   ]
  },
  {
   "cell_type": "code",
   "execution_count": 30,
   "metadata": {},
   "outputs": [
    {
     "data": {
      "text/html": [
       "<div>\n",
       "<style scoped>\n",
       "    .dataframe tbody tr th:only-of-type {\n",
       "        vertical-align: middle;\n",
       "    }\n",
       "\n",
       "    .dataframe tbody tr th {\n",
       "        vertical-align: top;\n",
       "    }\n",
       "\n",
       "    .dataframe thead th {\n",
       "        text-align: right;\n",
       "    }\n",
       "</style>\n",
       "<table border=\"1\" class=\"dataframe\">\n",
       "  <thead>\n",
       "    <tr style=\"text-align: right;\">\n",
       "      <th></th>\n",
       "      <th>username</th>\n",
       "      <th>product_id</th>\n",
       "      <th>hours</th>\n",
       "      <th>user_id</th>\n",
       "      <th>median_hours</th>\n",
       "      <th>rating</th>\n",
       "    </tr>\n",
       "  </thead>\n",
       "  <tbody>\n",
       "    <tr>\n",
       "      <th>0</th>\n",
       "      <td>Chaos Syren</td>\n",
       "      <td>725280</td>\n",
       "      <td>0.1</td>\n",
       "      <td>1</td>\n",
       "      <td>0.1</td>\n",
       "      <td>1</td>\n",
       "    </tr>\n",
       "    <tr>\n",
       "      <th>1</th>\n",
       "      <td>Ariman1</td>\n",
       "      <td>328100</td>\n",
       "      <td>13.2</td>\n",
       "      <td>2</td>\n",
       "      <td>2.0</td>\n",
       "      <td>1</td>\n",
       "    </tr>\n",
       "    <tr>\n",
       "      <th>2</th>\n",
       "      <td>Ariman1</td>\n",
       "      <td>521230</td>\n",
       "      <td>0.5</td>\n",
       "      <td>2</td>\n",
       "      <td>2.0</td>\n",
       "      <td>0</td>\n",
       "    </tr>\n",
       "    <tr>\n",
       "      <th>3</th>\n",
       "      <td>Ariman1</td>\n",
       "      <td>493980</td>\n",
       "      <td>2.0</td>\n",
       "      <td>2</td>\n",
       "      <td>2.0</td>\n",
       "      <td>1</td>\n",
       "    </tr>\n",
       "    <tr>\n",
       "      <th>4</th>\n",
       "      <td>freakfantom</td>\n",
       "      <td>725280</td>\n",
       "      <td>0.1</td>\n",
       "      <td>3</td>\n",
       "      <td>0.1</td>\n",
       "      <td>1</td>\n",
       "    </tr>\n",
       "  </tbody>\n",
       "</table>\n",
       "</div>"
      ],
      "text/plain": [
       "      username product_id  hours  user_id  median_hours  rating\n",
       "0  Chaos Syren     725280    0.1        1           0.1       1\n",
       "1      Ariman1     328100   13.2        2           2.0       1\n",
       "2      Ariman1     521230    0.5        2           2.0       0\n",
       "3      Ariman1     493980    2.0        2           2.0       1\n",
       "4  freakfantom     725280    0.1        3           0.1       1"
      ]
     },
     "execution_count": 30,
     "metadata": {},
     "output_type": "execute_result"
    }
   ],
   "source": [
    "reviews.head()"
   ]
  },
  {
   "cell_type": "markdown",
   "metadata": {},
   "source": [
    "Hour no sera mas de utilidad por lo que la eliminare"
   ]
  },
  {
   "cell_type": "code",
   "execution_count": 31,
   "metadata": {},
   "outputs": [],
   "source": [
    "reviews.drop(columns=['hours'], inplace=True)"
   ]
  },
  {
   "cell_type": "code",
   "execution_count": 32,
   "metadata": {},
   "outputs": [
    {
     "data": {
      "image/png": "[encoded data removed]",
      "text/plain": [
       "<Figure size 432x288 with 1 Axes>"
      ]
     },
     "metadata": {},
     "output_type": "display_data"
    }
   ],
   "source": [
    "sns.set_style(\"whitegrid\")\n",
    "x = reviews.rating\n",
    "plt.title(\"Ratings\",fontsize=18)\n",
    "ax = sns.distplot(x, fit=norm, kde=False, bins=2)"
   ]
  },
  {
   "cell_type": "code",
   "execution_count": 33,
   "metadata": {},
   "outputs": [
    {
     "data": {
      "image/png": "[encoded data removed]",
      "text/plain": [
       "<Figure size 432x288 with 1 Axes>"
      ]
     },
     "metadata": {},
     "output_type": "display_data"
    }
   ],
   "source": [
    "r0=len(reviews[reviews.rating==0])\n",
    "r1=len(reviews[reviews.rating==1])\n",
    "\n",
    "# Pie chart, where the slices will be ordered and plotted counter-clockwise:\n",
    "labels = [0,1]\n",
    "sizes = [r0,r1]\n",
    "explode = (0,0)  # only \"explode\" the 2nd slice (i.e. 'Hogs')\n",
    "\n",
    "fig1, ax1 = plt.subplots()\n",
    "plt.title(\"Ratings\",fontsize=18)\n",
    "ax1.pie(sizes, explode=explode, labels=labels, autopct='%1.1f%%',\n",
    "        shadow=True, startangle=90)\n",
    "ax1.axis('equal')  # Equal aspect ratio ensures that pie is drawn as a circle.\n",
    "\n",
    "plt.show()"
   ]
  },
  {
   "cell_type": "markdown",
   "metadata": {},
   "source": [
    "Lo que note a lo largo que desarrollaba el proyecto era que habia usuarios que habian realizado varios reviews sobre el mismo juego por lo que tenia en rating varias puntuaciones diferentes o iguales. Lo que hare es contar esas instancias duplicadas y tomar la ultima ya que sera la puntuacion definitiva (por las horas que ya tiene jugadas)."
   ]
  },
  {
   "cell_type": "code",
   "execution_count": 34,
   "metadata": {},
   "outputs": [
    {
     "data": {
      "text/plain": [
       "9884"
      ]
     },
     "execution_count": 34,
     "metadata": {},
     "output_type": "execute_result"
    }
   ],
   "source": [
    "len(reviews)-len(reviews.drop_duplicates())"
   ]
  },
  {
   "cell_type": "code",
   "execution_count": 35,
   "metadata": {},
   "outputs": [
    {
     "data": {
      "text/html": [
       "<div>\n",
       "<style scoped>\n",
       "    .dataframe tbody tr th:only-of-type {\n",
       "        vertical-align: middle;\n",
       "    }\n",
       "\n",
       "    .dataframe tbody tr th {\n",
       "        vertical-align: top;\n",
       "    }\n",
       "\n",
       "    .dataframe thead th {\n",
       "        text-align: right;\n",
       "    }\n",
       "</style>\n",
       "<table border=\"1\" class=\"dataframe\">\n",
       "  <thead>\n",
       "    <tr style=\"text-align: right;\">\n",
       "      <th></th>\n",
       "      <th>username</th>\n",
       "      <th>product_id</th>\n",
       "      <th>user_id</th>\n",
       "      <th>median_hours</th>\n",
       "      <th>rating</th>\n",
       "    </tr>\n",
       "  </thead>\n",
       "  <tbody>\n",
       "    <tr>\n",
       "      <th>0</th>\n",
       "      <td>Chaos Syren</td>\n",
       "      <td>725280</td>\n",
       "      <td>1</td>\n",
       "      <td>0.1</td>\n",
       "      <td>1</td>\n",
       "    </tr>\n",
       "    <tr>\n",
       "      <th>1</th>\n",
       "      <td>Ariman1</td>\n",
       "      <td>328100</td>\n",
       "      <td>2</td>\n",
       "      <td>2.0</td>\n",
       "      <td>1</td>\n",
       "    </tr>\n",
       "    <tr>\n",
       "      <th>2</th>\n",
       "      <td>Ariman1</td>\n",
       "      <td>521230</td>\n",
       "      <td>2</td>\n",
       "      <td>2.0</td>\n",
       "      <td>0</td>\n",
       "    </tr>\n",
       "    <tr>\n",
       "      <th>3</th>\n",
       "      <td>Ariman1</td>\n",
       "      <td>493980</td>\n",
       "      <td>2</td>\n",
       "      <td>2.0</td>\n",
       "      <td>1</td>\n",
       "    </tr>\n",
       "    <tr>\n",
       "      <th>4</th>\n",
       "      <td>freakfantom</td>\n",
       "      <td>725280</td>\n",
       "      <td>3</td>\n",
       "      <td>0.1</td>\n",
       "      <td>1</td>\n",
       "    </tr>\n",
       "    <tr>\n",
       "      <th>...</th>\n",
       "      <td>...</td>\n",
       "      <td>...</td>\n",
       "      <td>...</td>\n",
       "      <td>...</td>\n",
       "      <td>...</td>\n",
       "    </tr>\n",
       "    <tr>\n",
       "      <th>775100</th>\n",
       "      <td>Seikleja</td>\n",
       "      <td>252490</td>\n",
       "      <td>537738</td>\n",
       "      <td>80.8</td>\n",
       "      <td>1</td>\n",
       "    </tr>\n",
       "    <tr>\n",
       "      <th>775101</th>\n",
       "      <td>KindAlcoholic</td>\n",
       "      <td>252490</td>\n",
       "      <td>537739</td>\n",
       "      <td>1303.6</td>\n",
       "      <td>1</td>\n",
       "    </tr>\n",
       "    <tr>\n",
       "      <th>775102</th>\n",
       "      <td>SepticFalcon</td>\n",
       "      <td>252490</td>\n",
       "      <td>537740</td>\n",
       "      <td>334.9</td>\n",
       "      <td>1</td>\n",
       "    </tr>\n",
       "    <tr>\n",
       "      <th>775103</th>\n",
       "      <td>RancorZealot</td>\n",
       "      <td>252490</td>\n",
       "      <td>537741</td>\n",
       "      <td>203.5</td>\n",
       "      <td>1</td>\n",
       "    </tr>\n",
       "    <tr>\n",
       "      <th>775104</th>\n",
       "      <td>Helk</td>\n",
       "      <td>252490</td>\n",
       "      <td>537742</td>\n",
       "      <td>15375.0</td>\n",
       "      <td>1</td>\n",
       "    </tr>\n",
       "  </tbody>\n",
       "</table>\n",
       "<p>764732 rows × 5 columns</p>\n",
       "</div>"
      ],
      "text/plain": [
       "             username product_id  user_id  median_hours  rating\n",
       "0         Chaos Syren     725280        1           0.1       1\n",
       "1             Ariman1     328100        2           2.0       1\n",
       "2             Ariman1     521230        2           2.0       0\n",
       "3             Ariman1     493980        2           2.0       1\n",
       "4         freakfantom     725280        3           0.1       1\n",
       "...               ...        ...      ...           ...     ...\n",
       "775100       Seikleja     252490   537738          80.8       1\n",
       "775101  KindAlcoholic     252490   537739        1303.6       1\n",
       "775102   SepticFalcon     252490   537740         334.9       1\n",
       "775103   RancorZealot     252490   537741         203.5       1\n",
       "775104           Helk     252490   537742       15375.0       1\n",
       "\n",
       "[764732 rows x 5 columns]"
      ]
     },
     "execution_count": 35,
     "metadata": {},
     "output_type": "execute_result"
    }
   ],
   "source": [
    "reviews.drop_duplicates(subset=['product_id', 'user_id'], keep='last', inplace=True)\n",
    "reviews"
   ]
  },
  {
   "cell_type": "markdown",
   "metadata": {},
   "source": [
    "Para mejorar nuestra prediccion sacaremos todos los usuarios que tengan 3 rankeos o menos"
   ]
  },
  {
   "cell_type": "code",
   "execution_count": 36,
   "metadata": {},
   "outputs": [
    {
     "data": {
      "text/html": [
       "<div>\n",
       "<style scoped>\n",
       "    .dataframe tbody tr th:only-of-type {\n",
       "        vertical-align: middle;\n",
       "    }\n",
       "\n",
       "    .dataframe tbody tr th {\n",
       "        vertical-align: top;\n",
       "    }\n",
       "\n",
       "    .dataframe thead th {\n",
       "        text-align: right;\n",
       "    }\n",
       "</style>\n",
       "<table border=\"1\" class=\"dataframe\">\n",
       "  <thead>\n",
       "    <tr style=\"text-align: right;\">\n",
       "      <th></th>\n",
       "      <th>product_id</th>\n",
       "      <th>rating</th>\n",
       "    </tr>\n",
       "    <tr>\n",
       "      <th>user_id</th>\n",
       "      <th></th>\n",
       "      <th></th>\n",
       "    </tr>\n",
       "  </thead>\n",
       "  <tbody>\n",
       "    <tr>\n",
       "      <th>1</th>\n",
       "      <td>1</td>\n",
       "      <td>1</td>\n",
       "    </tr>\n",
       "    <tr>\n",
       "      <th>2</th>\n",
       "      <td>3</td>\n",
       "      <td>3</td>\n",
       "    </tr>\n",
       "    <tr>\n",
       "      <th>3</th>\n",
       "      <td>1</td>\n",
       "      <td>1</td>\n",
       "    </tr>\n",
       "    <tr>\n",
       "      <th>4</th>\n",
       "      <td>27</td>\n",
       "      <td>27</td>\n",
       "    </tr>\n",
       "    <tr>\n",
       "      <th>5</th>\n",
       "      <td>1</td>\n",
       "      <td>1</td>\n",
       "    </tr>\n",
       "  </tbody>\n",
       "</table>\n",
       "</div>"
      ],
      "text/plain": [
       "         product_id  rating\n",
       "user_id                    \n",
       "1                 1       1\n",
       "2                 3       3\n",
       "3                 1       1\n",
       "4                27      27\n",
       "5                 1       1"
      ]
     },
     "execution_count": 36,
     "metadata": {},
     "output_type": "execute_result"
    }
   ],
   "source": [
    "filtro=reviews[['user_id','product_id','rating']].groupby(by='user_id').count()\n",
    "filtro.head()"
   ]
  },
  {
   "cell_type": "code",
   "execution_count": 37,
   "metadata": {},
   "outputs": [
    {
     "name": "stdout",
     "output_type": "stream",
     "text": [
      "20666\n"
     ]
    },
    {
     "data": {
      "image/png": "[encoded data removed]",
      "text/plain": [
       "<Figure size 432x288 with 1 Axes>"
      ]
     },
     "metadata": {},
     "output_type": "display_data"
    }
   ],
   "source": [
    "filtro=filtro[(filtro.product_id>3) ]\n",
    "print(len(filtro))\n",
    "sns.set_style(\"whitegrid\")\n",
    "x = filtro.product_id\n",
    "ax = sns.distplot(x, fit=norm, kde=False, bins=5)"
   ]
  },
  {
   "cell_type": "code",
   "execution_count": 38,
   "metadata": {},
   "outputs": [],
   "source": [
    "filtro_usuarios=pd.DataFrame(filtro)"
   ]
  },
  {
   "cell_type": "code",
   "execution_count": 39,
   "metadata": {},
   "outputs": [],
   "source": [
    "filtro= filtro.rename_axis('user_id').reset_index()"
   ]
  },
  {
   "cell_type": "code",
   "execution_count": 40,
   "metadata": {},
   "outputs": [
    {
     "data": {
      "text/html": [
       "<div>\n",
       "<style scoped>\n",
       "    .dataframe tbody tr th:only-of-type {\n",
       "        vertical-align: middle;\n",
       "    }\n",
       "\n",
       "    .dataframe tbody tr th {\n",
       "        vertical-align: top;\n",
       "    }\n",
       "\n",
       "    .dataframe thead th {\n",
       "        text-align: right;\n",
       "    }\n",
       "</style>\n",
       "<table border=\"1\" class=\"dataframe\">\n",
       "  <thead>\n",
       "    <tr style=\"text-align: right;\">\n",
       "      <th></th>\n",
       "      <th>username</th>\n",
       "      <th>product_id</th>\n",
       "      <th>user_id</th>\n",
       "      <th>median_hours</th>\n",
       "      <th>rating</th>\n",
       "    </tr>\n",
       "  </thead>\n",
       "  <tbody>\n",
       "    <tr>\n",
       "      <th>5</th>\n",
       "      <td>The_Cpt_FROGGY</td>\n",
       "      <td>631920</td>\n",
       "      <td>4</td>\n",
       "      <td>6.8</td>\n",
       "      <td>1</td>\n",
       "    </tr>\n",
       "    <tr>\n",
       "      <th>6</th>\n",
       "      <td>The_Cpt_FROGGY</td>\n",
       "      <td>482440</td>\n",
       "      <td>4</td>\n",
       "      <td>6.8</td>\n",
       "      <td>1</td>\n",
       "    </tr>\n",
       "    <tr>\n",
       "      <th>7</th>\n",
       "      <td>The_Cpt_FROGGY</td>\n",
       "      <td>736860</td>\n",
       "      <td>4</td>\n",
       "      <td>6.8</td>\n",
       "      <td>0</td>\n",
       "    </tr>\n",
       "    <tr>\n",
       "      <th>8</th>\n",
       "      <td>The_Cpt_FROGGY</td>\n",
       "      <td>493540</td>\n",
       "      <td>4</td>\n",
       "      <td>6.8</td>\n",
       "      <td>1</td>\n",
       "    </tr>\n",
       "    <tr>\n",
       "      <th>9</th>\n",
       "      <td>The_Cpt_FROGGY</td>\n",
       "      <td>341980</td>\n",
       "      <td>4</td>\n",
       "      <td>6.8</td>\n",
       "      <td>0</td>\n",
       "    </tr>\n",
       "    <tr>\n",
       "      <th>...</th>\n",
       "      <td>...</td>\n",
       "      <td>...</td>\n",
       "      <td>...</td>\n",
       "      <td>...</td>\n",
       "      <td>...</td>\n",
       "    </tr>\n",
       "    <tr>\n",
       "      <th>695627</th>\n",
       "      <td>Podel</td>\n",
       "      <td>12120</td>\n",
       "      <td>461385</td>\n",
       "      <td>20.4</td>\n",
       "      <td>0</td>\n",
       "    </tr>\n",
       "    <tr>\n",
       "      <th>705565</th>\n",
       "      <td>WinnB</td>\n",
       "      <td>563560</td>\n",
       "      <td>470697</td>\n",
       "      <td>13.1</td>\n",
       "      <td>0</td>\n",
       "    </tr>\n",
       "    <tr>\n",
       "      <th>705566</th>\n",
       "      <td>WinnB</td>\n",
       "      <td>427520</td>\n",
       "      <td>470697</td>\n",
       "      <td>13.1</td>\n",
       "      <td>1</td>\n",
       "    </tr>\n",
       "    <tr>\n",
       "      <th>705567</th>\n",
       "      <td>WinnB</td>\n",
       "      <td>290530</td>\n",
       "      <td>470697</td>\n",
       "      <td>13.1</td>\n",
       "      <td>0</td>\n",
       "    </tr>\n",
       "    <tr>\n",
       "      <th>705568</th>\n",
       "      <td>WinnB</td>\n",
       "      <td>457140</td>\n",
       "      <td>470697</td>\n",
       "      <td>13.1</td>\n",
       "      <td>1</td>\n",
       "    </tr>\n",
       "  </tbody>\n",
       "</table>\n",
       "<p>147017 rows × 5 columns</p>\n",
       "</div>"
      ],
      "text/plain": [
       "              username product_id  user_id  median_hours  rating\n",
       "5       The_Cpt_FROGGY     631920        4           6.8       1\n",
       "6       The_Cpt_FROGGY     482440        4           6.8       1\n",
       "7       The_Cpt_FROGGY     736860        4           6.8       0\n",
       "8       The_Cpt_FROGGY     493540        4           6.8       1\n",
       "9       The_Cpt_FROGGY     341980        4           6.8       0\n",
       "...                ...        ...      ...           ...     ...\n",
       "695627           Podel      12120   461385          20.4       0\n",
       "705565           WinnB     563560   470697          13.1       0\n",
       "705566           WinnB     427520   470697          13.1       1\n",
       "705567           WinnB     290530   470697          13.1       0\n",
       "705568           WinnB     457140   470697          13.1       1\n",
       "\n",
       "[147017 rows x 5 columns]"
      ]
     },
     "execution_count": 40,
     "metadata": {},
     "output_type": "execute_result"
    }
   ],
   "source": [
    "grupo_usuarios=filtro['user_id'].values\n",
    "reviews=reviews[reviews.user_id.isin(grupo_usuarios) ]\n",
    "reviews"
   ]
  },
  {
   "cell_type": "markdown",
   "metadata": {},
   "source": [
    "### Benchmark - SVD"
   ]
  },
  {
   "cell_type": "markdown",
   "metadata": {},
   "source": [
    "Modificamos la escala para surprise ya que por defecto es de 0 a 5"
   ]
  },
  {
   "cell_type": "code",
   "execution_count": 41,
   "metadata": {},
   "outputs": [],
   "source": [
    "reader = Reader(rating_scale=(0, 1))"
   ]
  },
  {
   "cell_type": "markdown",
   "metadata": {},
   "source": [
    "Creamos el dataset que utilizaremos para la prediccion"
   ]
  },
  {
   "cell_type": "code",
   "execution_count": 42,
   "metadata": {},
   "outputs": [
    {
     "data": {
      "text/html": [
       "<div>\n",
       "<style scoped>\n",
       "    .dataframe tbody tr th:only-of-type {\n",
       "        vertical-align: middle;\n",
       "    }\n",
       "\n",
       "    .dataframe tbody tr th {\n",
       "        vertical-align: top;\n",
       "    }\n",
       "\n",
       "    .dataframe thead th {\n",
       "        text-align: right;\n",
       "    }\n",
       "</style>\n",
       "<table border=\"1\" class=\"dataframe\">\n",
       "  <thead>\n",
       "    <tr style=\"text-align: right;\">\n",
       "      <th></th>\n",
       "      <th>user_id</th>\n",
       "      <th>product_id</th>\n",
       "      <th>rating</th>\n",
       "    </tr>\n",
       "  </thead>\n",
       "  <tbody>\n",
       "    <tr>\n",
       "      <th>5</th>\n",
       "      <td>4</td>\n",
       "      <td>631920</td>\n",
       "      <td>1</td>\n",
       "    </tr>\n",
       "    <tr>\n",
       "      <th>6</th>\n",
       "      <td>4</td>\n",
       "      <td>482440</td>\n",
       "      <td>1</td>\n",
       "    </tr>\n",
       "    <tr>\n",
       "      <th>7</th>\n",
       "      <td>4</td>\n",
       "      <td>736860</td>\n",
       "      <td>0</td>\n",
       "    </tr>\n",
       "    <tr>\n",
       "      <th>8</th>\n",
       "      <td>4</td>\n",
       "      <td>493540</td>\n",
       "      <td>1</td>\n",
       "    </tr>\n",
       "    <tr>\n",
       "      <th>9</th>\n",
       "      <td>4</td>\n",
       "      <td>341980</td>\n",
       "      <td>0</td>\n",
       "    </tr>\n",
       "  </tbody>\n",
       "</table>\n",
       "</div>"
      ],
      "text/plain": [
       "   user_id product_id  rating\n",
       "5        4     631920       1\n",
       "6        4     482440       1\n",
       "7        4     736860       0\n",
       "8        4     493540       1\n",
       "9        4     341980       0"
      ]
     },
     "execution_count": 42,
     "metadata": {},
     "output_type": "execute_result"
    }
   ],
   "source": [
    "data=reviews[['user_id','product_id','rating']]\n",
    "data.head()"
   ]
  },
  {
   "cell_type": "code",
   "execution_count": 43,
   "metadata": {},
   "outputs": [],
   "source": [
    "data = Dataset.load_from_df(data[['user_id', 'product_id', 'rating']], reader)"
   ]
  },
  {
   "cell_type": "code",
   "execution_count": 44,
   "metadata": {},
   "outputs": [
    {
     "data": {
      "text/plain": [
       "<surprise.dataset.DatasetAutoFolds at 0x219ea52e970>"
      ]
     },
     "execution_count": 44,
     "metadata": {},
     "output_type": "execute_result"
    }
   ],
   "source": [
    "data"
   ]
  },
  {
   "cell_type": "markdown",
   "metadata": {},
   "source": [
    "Separamos el dataset en train test"
   ]
  },
  {
   "cell_type": "code",
   "execution_count": 45,
   "metadata": {},
   "outputs": [],
   "source": [
    "trainset, testset = train_test_split(data, test_size=.25)"
   ]
  },
  {
   "cell_type": "markdown",
   "metadata": {},
   "source": [
    "### Entrenamiento"
   ]
  },
  {
   "cell_type": "code",
   "execution_count": 46,
   "metadata": {},
   "outputs": [],
   "source": [
    "algo = SVD()"
   ]
  },
  {
   "cell_type": "code",
   "execution_count": 47,
   "metadata": {},
   "outputs": [
    {
     "data": {
      "text/plain": [
       "<surprise.prediction_algorithms.matrix_factorization.SVD at 0x219df3838b0>"
      ]
     },
     "execution_count": 47,
     "metadata": {},
     "output_type": "execute_result"
    }
   ],
   "source": [
    "algo.fit(trainset)"
   ]
  },
  {
   "cell_type": "code",
   "execution_count": 48,
   "metadata": {},
   "outputs": [],
   "source": [
    "predictions = algo.test(testset)"
   ]
  },
  {
   "cell_type": "code",
   "execution_count": 49,
   "metadata": {},
   "outputs": [
    {
     "data": {
      "text/plain": [
       "Prediction(uid=315779, iid='242050', r_ui=1.0, est=0.7526047557261409, details={'was_impossible': False})"
      ]
     },
     "execution_count": 49,
     "metadata": {},
     "output_type": "execute_result"
    }
   ],
   "source": [
    "predictions[1]"
   ]
  },
  {
   "cell_type": "markdown",
   "metadata": {},
   "source": [
    "### Testeo"
   ]
  },
  {
   "cell_type": "code",
   "execution_count": 50,
   "metadata": {},
   "outputs": [
    {
     "data": {
      "text/plain": [
       "Prediction(uid=45948, iid=268500, r_ui=None, est=0.525158259418476, details={'was_impossible': False})"
      ]
     },
     "execution_count": 50,
     "metadata": {},
     "output_type": "execute_result"
    }
   ],
   "source": [
    "#estimamos para un usuario y un juego\n",
    "#algo.predict(76561198011965359,440)\n",
    "algo.predict(45948,268500)"
   ]
  },
  {
   "cell_type": "markdown",
   "metadata": {},
   "source": [
    "."
   ]
  },
  {
   "cell_type": "markdown",
   "metadata": {},
   "source": [
    "##### Juegos que le gustaron al usuario"
   ]
  },
  {
   "cell_type": "code",
   "execution_count": 51,
   "metadata": {},
   "outputs": [
    {
     "name": "stdout",
     "output_type": "stream",
     "text": [
      "(22, 6)\n"
     ]
    },
    {
     "data": {
      "text/html": [
       "<div>\n",
       "<style scoped>\n",
       "    .dataframe tbody tr th:only-of-type {\n",
       "        vertical-align: middle;\n",
       "    }\n",
       "\n",
       "    .dataframe tbody tr th {\n",
       "        vertical-align: top;\n",
       "    }\n",
       "\n",
       "    .dataframe thead th {\n",
       "        text-align: right;\n",
       "    }\n",
       "</style>\n",
       "<table border=\"1\" class=\"dataframe\">\n",
       "  <thead>\n",
       "    <tr style=\"text-align: right;\">\n",
       "      <th></th>\n",
       "      <th>username</th>\n",
       "      <th>product_id</th>\n",
       "      <th>user_id</th>\n",
       "      <th>median_hours</th>\n",
       "      <th>rating</th>\n",
       "      <th>app_name</th>\n",
       "    </tr>\n",
       "  </thead>\n",
       "  <tbody>\n",
       "    <tr>\n",
       "      <th>0</th>\n",
       "      <td>123</td>\n",
       "      <td>445220</td>\n",
       "      <td>2889</td>\n",
       "      <td>118.4</td>\n",
       "      <td>1</td>\n",
       "      <td>Avorion</td>\n",
       "    </tr>\n",
       "    <tr>\n",
       "      <th>1</th>\n",
       "      <td>123</td>\n",
       "      <td>220200</td>\n",
       "      <td>2889</td>\n",
       "      <td>118.4</td>\n",
       "      <td>1</td>\n",
       "      <td>Kerbal Space Program</td>\n",
       "    </tr>\n",
       "    <tr>\n",
       "      <th>2</th>\n",
       "      <td>123</td>\n",
       "      <td>242680</td>\n",
       "      <td>2889</td>\n",
       "      <td>118.4</td>\n",
       "      <td>1</td>\n",
       "      <td>Nuclear Throne</td>\n",
       "    </tr>\n",
       "    <tr>\n",
       "      <th>3</th>\n",
       "      <td>123</td>\n",
       "      <td>262060</td>\n",
       "      <td>2889</td>\n",
       "      <td>118.4</td>\n",
       "      <td>1</td>\n",
       "      <td>Darkest Dungeon®</td>\n",
       "    </tr>\n",
       "    <tr>\n",
       "      <th>4</th>\n",
       "      <td>123</td>\n",
       "      <td>333930</td>\n",
       "      <td>2889</td>\n",
       "      <td>118.4</td>\n",
       "      <td>1</td>\n",
       "      <td>Dirty Bomb®</td>\n",
       "    </tr>\n",
       "  </tbody>\n",
       "</table>\n",
       "</div>"
      ],
      "text/plain": [
       "  username product_id  user_id  median_hours  rating              app_name\n",
       "0      123     445220     2889         118.4       1               Avorion\n",
       "1      123     220200     2889         118.4       1  Kerbal Space Program\n",
       "2      123     242680     2889         118.4       1        Nuclear Throne\n",
       "3      123     262060     2889         118.4       1      Darkest Dungeon®\n",
       "4      123     333930     2889         118.4       1           Dirty Bomb®"
      ]
     },
     "execution_count": 51,
     "metadata": {},
     "output_type": "execute_result"
    }
   ],
   "source": [
    "usuario = 2889\n",
    "rating = 1\n",
    "# Filtramos data_reviews\n",
    "df_user = reviews[(reviews['user_id'] == usuario) & (reviews['rating'] == rating)]\n",
    "#Reseteamos elindex\n",
    "df_user = df_user.reset_index(drop=True)\n",
    "# hacemos unjoin df_users y data_games\n",
    "df_user = pd.merge(left=df_user,right=games, left_on='product_id', right_on='product_id')\n",
    "# Listamos el resultado\n",
    "print(df_user.shape)\n",
    "df_user.head()"
   ]
  },
  {
   "cell_type": "markdown",
   "metadata": {},
   "source": [
    "."
   ]
  },
  {
   "cell_type": "markdown",
   "metadata": {},
   "source": [
    "##### Juegos que no le gustaron al usuario"
   ]
  },
  {
   "cell_type": "code",
   "execution_count": 52,
   "metadata": {},
   "outputs": [
    {
     "name": "stdout",
     "output_type": "stream",
     "text": [
      "(89, 6)\n"
     ]
    },
    {
     "data": {
      "text/html": [
       "<div>\n",
       "<style scoped>\n",
       "    .dataframe tbody tr th:only-of-type {\n",
       "        vertical-align: middle;\n",
       "    }\n",
       "\n",
       "    .dataframe tbody tr th {\n",
       "        vertical-align: top;\n",
       "    }\n",
       "\n",
       "    .dataframe thead th {\n",
       "        text-align: right;\n",
       "    }\n",
       "</style>\n",
       "<table border=\"1\" class=\"dataframe\">\n",
       "  <thead>\n",
       "    <tr style=\"text-align: right;\">\n",
       "      <th></th>\n",
       "      <th>username</th>\n",
       "      <th>product_id</th>\n",
       "      <th>user_id</th>\n",
       "      <th>median_hours</th>\n",
       "      <th>rating</th>\n",
       "      <th>app_name</th>\n",
       "    </tr>\n",
       "  </thead>\n",
       "  <tbody>\n",
       "    <tr>\n",
       "      <th>0</th>\n",
       "      <td>123</td>\n",
       "      <td>35720</td>\n",
       "      <td>2889</td>\n",
       "      <td>118.4</td>\n",
       "      <td>0</td>\n",
       "      <td>Trine 2: Complete Story</td>\n",
       "    </tr>\n",
       "    <tr>\n",
       "      <th>1</th>\n",
       "      <td>123</td>\n",
       "      <td>271590</td>\n",
       "      <td>2889</td>\n",
       "      <td>118.4</td>\n",
       "      <td>0</td>\n",
       "      <td>Grand Theft Auto V</td>\n",
       "    </tr>\n",
       "    <tr>\n",
       "      <th>2</th>\n",
       "      <td>123</td>\n",
       "      <td>337000</td>\n",
       "      <td>2889</td>\n",
       "      <td>118.4</td>\n",
       "      <td>0</td>\n",
       "      <td>Deus Ex: Mankind Divided</td>\n",
       "    </tr>\n",
       "    <tr>\n",
       "      <th>3</th>\n",
       "      <td>123</td>\n",
       "      <td>389730</td>\n",
       "      <td>2889</td>\n",
       "      <td>118.4</td>\n",
       "      <td>0</td>\n",
       "      <td>TEKKEN 7</td>\n",
       "    </tr>\n",
       "    <tr>\n",
       "      <th>4</th>\n",
       "      <td>123</td>\n",
       "      <td>307780</td>\n",
       "      <td>2889</td>\n",
       "      <td>118.4</td>\n",
       "      <td>0</td>\n",
       "      <td>Mortal Kombat X</td>\n",
       "    </tr>\n",
       "  </tbody>\n",
       "</table>\n",
       "</div>"
      ],
      "text/plain": [
       "  username product_id  user_id  median_hours  rating                  app_name\n",
       "0      123      35720     2889         118.4       0   Trine 2: Complete Story\n",
       "1      123     271590     2889         118.4       0        Grand Theft Auto V\n",
       "2      123     337000     2889         118.4       0  Deus Ex: Mankind Divided\n",
       "3      123     389730     2889         118.4       0                  TEKKEN 7\n",
       "4      123     307780     2889         118.4       0           Mortal Kombat X"
      ]
     },
     "execution_count": 52,
     "metadata": {},
     "output_type": "execute_result"
    }
   ],
   "source": [
    "usuario = 2889\n",
    "rating = 0\n",
    "# Filtramos data_reviews\n",
    "df_user = reviews[(reviews['user_id'] == usuario) & (reviews['rating'] == rating)]\n",
    "#Reseteamos elindex\n",
    "df_user = df_user.reset_index(drop=True)\n",
    "# hacemos unjoin df_users y data_games\n",
    "df_user = pd.merge(left=df_user,right=games, left_on='product_id', right_on='product_id')\n",
    "# Listamos el resultado\n",
    "print(df_user.shape)\n",
    "df_user.head()"
   ]
  },
  {
   "cell_type": "markdown",
   "metadata": {},
   "source": [
    "."
   ]
  },
  {
   "cell_type": "markdown",
   "metadata": {},
   "source": [
    "##### Juegos que ya probo e hizo su review"
   ]
  },
  {
   "cell_type": "code",
   "execution_count": 53,
   "metadata": {},
   "outputs": [
    {
     "name": "stdout",
     "output_type": "stream",
     "text": [
      "(111, 5)\n"
     ]
    },
    {
     "data": {
      "text/html": [
       "<div>\n",
       "<style scoped>\n",
       "    .dataframe tbody tr th:only-of-type {\n",
       "        vertical-align: middle;\n",
       "    }\n",
       "\n",
       "    .dataframe tbody tr th {\n",
       "        vertical-align: top;\n",
       "    }\n",
       "\n",
       "    .dataframe thead th {\n",
       "        text-align: right;\n",
       "    }\n",
       "</style>\n",
       "<table border=\"1\" class=\"dataframe\">\n",
       "  <thead>\n",
       "    <tr style=\"text-align: right;\">\n",
       "      <th></th>\n",
       "      <th>username</th>\n",
       "      <th>product_id</th>\n",
       "      <th>user_id</th>\n",
       "      <th>median_hours</th>\n",
       "      <th>rating</th>\n",
       "    </tr>\n",
       "  </thead>\n",
       "  <tbody>\n",
       "    <tr>\n",
       "      <th>12508</th>\n",
       "      <td>123</td>\n",
       "      <td>35720</td>\n",
       "      <td>2889</td>\n",
       "      <td>118.4</td>\n",
       "      <td>0</td>\n",
       "    </tr>\n",
       "    <tr>\n",
       "      <th>12509</th>\n",
       "      <td>123</td>\n",
       "      <td>271590</td>\n",
       "      <td>2889</td>\n",
       "      <td>118.4</td>\n",
       "      <td>0</td>\n",
       "    </tr>\n",
       "    <tr>\n",
       "      <th>12510</th>\n",
       "      <td>123</td>\n",
       "      <td>337000</td>\n",
       "      <td>2889</td>\n",
       "      <td>118.4</td>\n",
       "      <td>0</td>\n",
       "    </tr>\n",
       "    <tr>\n",
       "      <th>12511</th>\n",
       "      <td>123</td>\n",
       "      <td>389730</td>\n",
       "      <td>2889</td>\n",
       "      <td>118.4</td>\n",
       "      <td>0</td>\n",
       "    </tr>\n",
       "    <tr>\n",
       "      <th>12512</th>\n",
       "      <td>123</td>\n",
       "      <td>307780</td>\n",
       "      <td>2889</td>\n",
       "      <td>118.4</td>\n",
       "      <td>0</td>\n",
       "    </tr>\n",
       "  </tbody>\n",
       "</table>\n",
       "</div>"
      ],
      "text/plain": [
       "      username product_id  user_id  median_hours  rating\n",
       "12508      123      35720     2889         118.4       0\n",
       "12509      123     271590     2889         118.4       0\n",
       "12510      123     337000     2889         118.4       0\n",
       "12511      123     389730     2889         118.4       0\n",
       "12512      123     307780     2889         118.4       0"
      ]
     },
     "execution_count": 53,
     "metadata": {},
     "output_type": "execute_result"
    }
   ],
   "source": [
    "usuario_jugado = reviews[reviews['user_id'] == usuario]\n",
    "print(usuario_jugado.shape)\n",
    "usuario_jugado.head()"
   ]
  },
  {
   "cell_type": "markdown",
   "metadata": {},
   "source": [
    "Crearemos un dataset donde se guardaran las recomendaciones, para ello borraremos los juegos que ya hizo su review"
   ]
  },
  {
   "cell_type": "code",
   "execution_count": 54,
   "metadata": {},
   "outputs": [
    {
     "name": "stdout",
     "output_type": "stream",
     "text": [
      "(32132, 1)\n"
     ]
    },
    {
     "data": {
      "text/html": [
       "<div>\n",
       "<style scoped>\n",
       "    .dataframe tbody tr th:only-of-type {\n",
       "        vertical-align: middle;\n",
       "    }\n",
       "\n",
       "    .dataframe tbody tr th {\n",
       "        vertical-align: top;\n",
       "    }\n",
       "\n",
       "    .dataframe thead th {\n",
       "        text-align: right;\n",
       "    }\n",
       "</style>\n",
       "<table border=\"1\" class=\"dataframe\">\n",
       "  <thead>\n",
       "    <tr style=\"text-align: right;\">\n",
       "      <th></th>\n",
       "      <th>app_name</th>\n",
       "    </tr>\n",
       "    <tr>\n",
       "      <th>product_id</th>\n",
       "      <th></th>\n",
       "    </tr>\n",
       "  </thead>\n",
       "  <tbody>\n",
       "    <tr>\n",
       "      <th>761140</th>\n",
       "      <td>Lost Summoner Kitty</td>\n",
       "    </tr>\n",
       "    <tr>\n",
       "      <th>643980</th>\n",
       "      <td>Ironbound</td>\n",
       "    </tr>\n",
       "    <tr>\n",
       "      <th>670290</th>\n",
       "      <td>Real Pool 3D - Poolians</td>\n",
       "    </tr>\n",
       "    <tr>\n",
       "      <th>767400</th>\n",
       "      <td>弹炸人2222</td>\n",
       "    </tr>\n",
       "    <tr>\n",
       "      <th>773570</th>\n",
       "      <td>Log Challenge</td>\n",
       "    </tr>\n",
       "  </tbody>\n",
       "</table>\n",
       "</div>"
      ],
      "text/plain": [
       "                           app_name\n",
       "product_id                         \n",
       "761140          Lost Summoner Kitty\n",
       "643980                    Ironbound\n",
       "670290      Real Pool 3D - Poolians\n",
       "767400                      弹炸人2222\n",
       "773570                Log Challenge"
      ]
     },
     "execution_count": 54,
     "metadata": {},
     "output_type": "execute_result"
    }
   ],
   "source": [
    "recomendaciones_usuario = games.copy()\n",
    "recomendaciones_usuario.set_index('product_id',inplace=True)\n",
    "print(recomendaciones_usuario.shape)\n",
    "recomendaciones_usuario.head()"
   ]
  },
  {
   "cell_type": "code",
   "execution_count": 55,
   "metadata": {},
   "outputs": [
    {
     "name": "stdout",
     "output_type": "stream",
     "text": [
      "(32021, 2)\n"
     ]
    },
    {
     "data": {
      "text/html": [
       "<div>\n",
       "<style scoped>\n",
       "    .dataframe tbody tr th:only-of-type {\n",
       "        vertical-align: middle;\n",
       "    }\n",
       "\n",
       "    .dataframe tbody tr th {\n",
       "        vertical-align: top;\n",
       "    }\n",
       "\n",
       "    .dataframe thead th {\n",
       "        text-align: right;\n",
       "    }\n",
       "</style>\n",
       "<table border=\"1\" class=\"dataframe\">\n",
       "  <thead>\n",
       "    <tr style=\"text-align: right;\">\n",
       "      <th></th>\n",
       "      <th>product_id</th>\n",
       "      <th>app_name</th>\n",
       "    </tr>\n",
       "  </thead>\n",
       "  <tbody>\n",
       "    <tr>\n",
       "      <th>0</th>\n",
       "      <td>761140</td>\n",
       "      <td>Lost Summoner Kitty</td>\n",
       "    </tr>\n",
       "    <tr>\n",
       "      <th>1</th>\n",
       "      <td>643980</td>\n",
       "      <td>Ironbound</td>\n",
       "    </tr>\n",
       "    <tr>\n",
       "      <th>2</th>\n",
       "      <td>670290</td>\n",
       "      <td>Real Pool 3D - Poolians</td>\n",
       "    </tr>\n",
       "    <tr>\n",
       "      <th>3</th>\n",
       "      <td>767400</td>\n",
       "      <td>弹炸人2222</td>\n",
       "    </tr>\n",
       "    <tr>\n",
       "      <th>4</th>\n",
       "      <td>773570</td>\n",
       "      <td>Log Challenge</td>\n",
       "    </tr>\n",
       "  </tbody>\n",
       "</table>\n",
       "</div>"
      ],
      "text/plain": [
       "  product_id                 app_name\n",
       "0     761140      Lost Summoner Kitty\n",
       "1     643980                Ironbound\n",
       "2     670290  Real Pool 3D - Poolians\n",
       "3     767400                  弹炸人2222\n",
       "4     773570            Log Challenge"
      ]
     },
     "execution_count": 55,
     "metadata": {},
     "output_type": "execute_result"
    }
   ],
   "source": [
    "recomendaciones_usuario.drop(usuario_jugado.product_id,inplace = True)\n",
    "recomendaciones_usuario = recomendaciones_usuario.reset_index()\n",
    "print(recomendaciones_usuario.shape)\n",
    "recomendaciones_usuario.head()"
   ]
  },
  {
   "cell_type": "markdown",
   "metadata": {},
   "source": [
    "Recomendamos"
   ]
  },
  {
   "cell_type": "code",
   "execution_count": 56,
   "metadata": {},
   "outputs": [],
   "source": [
    "recomendaciones_usuario['Estimate_Score'] = recomendaciones_usuario['product_id'].apply(lambda x: algo.predict(usuario, x).est)"
   ]
  },
  {
   "cell_type": "code",
   "execution_count": 57,
   "metadata": {},
   "outputs": [
    {
     "data": {
      "text/html": [
       "<div>\n",
       "<style scoped>\n",
       "    .dataframe tbody tr th:only-of-type {\n",
       "        vertical-align: middle;\n",
       "    }\n",
       "\n",
       "    .dataframe tbody tr th {\n",
       "        vertical-align: top;\n",
       "    }\n",
       "\n",
       "    .dataframe thead th {\n",
       "        text-align: right;\n",
       "    }\n",
       "</style>\n",
       "<table border=\"1\" class=\"dataframe\">\n",
       "  <thead>\n",
       "    <tr style=\"text-align: right;\">\n",
       "      <th></th>\n",
       "      <th>product_id</th>\n",
       "      <th>app_name</th>\n",
       "      <th>Estimate_Score</th>\n",
       "    </tr>\n",
       "  </thead>\n",
       "  <tbody>\n",
       "    <tr>\n",
       "      <th>22784</th>\n",
       "      <td>394360</td>\n",
       "      <td>Hearts of Iron IV</td>\n",
       "      <td>0.7</td>\n",
       "    </tr>\n",
       "    <tr>\n",
       "      <th>5123</th>\n",
       "      <td>367500</td>\n",
       "      <td>Dragon's Dogma: Dark Arisen</td>\n",
       "      <td>0.7</td>\n",
       "    </tr>\n",
       "    <tr>\n",
       "      <th>6634</th>\n",
       "      <td>294100</td>\n",
       "      <td>RimWorld</td>\n",
       "      <td>0.7</td>\n",
       "    </tr>\n",
       "    <tr>\n",
       "      <th>2635</th>\n",
       "      <td>240760</td>\n",
       "      <td>Wasteland 2: Director's Cut</td>\n",
       "      <td>0.6</td>\n",
       "    </tr>\n",
       "    <tr>\n",
       "      <th>19588</th>\n",
       "      <td>429660</td>\n",
       "      <td>Tales of Berseria™</td>\n",
       "      <td>0.6</td>\n",
       "    </tr>\n",
       "    <tr>\n",
       "      <th>...</th>\n",
       "      <td>...</td>\n",
       "      <td>...</td>\n",
       "      <td>...</td>\n",
       "    </tr>\n",
       "    <tr>\n",
       "      <th>28518</th>\n",
       "      <td>265790</td>\n",
       "      <td>Residue: Final Cut</td>\n",
       "      <td>0.0</td>\n",
       "    </tr>\n",
       "    <tr>\n",
       "      <th>28524</th>\n",
       "      <td>293540</td>\n",
       "      <td>Guns and Robots</td>\n",
       "      <td>0.0</td>\n",
       "    </tr>\n",
       "    <tr>\n",
       "      <th>28527</th>\n",
       "      <td>307010</td>\n",
       "      <td>Northmark: Hour of the Wolf</td>\n",
       "      <td>0.0</td>\n",
       "    </tr>\n",
       "    <tr>\n",
       "      <th>28530</th>\n",
       "      <td>296470</td>\n",
       "      <td>Mount Your Friends</td>\n",
       "      <td>0.0</td>\n",
       "    </tr>\n",
       "    <tr>\n",
       "      <th>4593</th>\n",
       "      <td>391780</td>\n",
       "      <td>Uebergame</td>\n",
       "      <td>0.0</td>\n",
       "    </tr>\n",
       "  </tbody>\n",
       "</table>\n",
       "<p>32021 rows × 3 columns</p>\n",
       "</div>"
      ],
      "text/plain": [
       "      product_id                     app_name  Estimate_Score\n",
       "22784     394360            Hearts of Iron IV             0.7\n",
       "5123      367500  Dragon's Dogma: Dark Arisen             0.7\n",
       "6634      294100                     RimWorld             0.7\n",
       "2635      240760  Wasteland 2: Director's Cut             0.6\n",
       "19588     429660           Tales of Berseria™             0.6\n",
       "...          ...                          ...             ...\n",
       "28518     265790           Residue: Final Cut             0.0\n",
       "28524     293540              Guns and Robots             0.0\n",
       "28527     307010  Northmark: Hour of the Wolf             0.0\n",
       "28530     296470           Mount Your Friends             0.0\n",
       "4593      391780                    Uebergame             0.0\n",
       "\n",
       "[32021 rows x 3 columns]"
      ]
     },
     "execution_count": 57,
     "metadata": {},
     "output_type": "execute_result"
    }
   ],
   "source": [
    "recomendaciones_usuario = recomendaciones_usuario.sort_values('Estimate_Score', ascending=False)\n",
    "recomendaciones_usuario"
   ]
  },
  {
   "cell_type": "markdown",
   "metadata": {},
   "source": [
    "### Evaluacion"
   ]
  },
  {
   "cell_type": "markdown",
   "metadata": {},
   "source": [
    "Como ya dijimos utilizaremos el RMSE asi que lo calculamos"
   ]
  },
  {
   "cell_type": "code",
   "execution_count": 58,
   "metadata": {},
   "outputs": [
    {
     "name": "stdout",
     "output_type": "stream",
     "text": [
      "RMSE: 0.4821\n"
     ]
    },
    {
     "data": {
      "text/plain": [
       "0.48212015335902375"
      ]
     },
     "execution_count": 58,
     "metadata": {},
     "output_type": "execute_result"
    }
   ],
   "source": [
    "accuracy.rmse(predictions)"
   ]
  },
  {
   "cell_type": "markdown",
   "metadata": {},
   "source": [
    "### Optimizacion de parametros"
   ]
  },
  {
   "cell_type": "code",
   "execution_count": 59,
   "metadata": {},
   "outputs": [
    {
     "name": "stdout",
     "output_type": "stream",
     "text": [
      "\n",
      "Número de Factores: 1\n",
      "Evaluating RMSE of algorithm SVD on 3 split(s).\n",
      "\n",
      "                  Fold 1  Fold 2  Fold 3  Mean    Std     \n",
      "RMSE (testset)    0.4757  0.4769  0.4769  0.4765  0.0006  \n",
      "Fit time          1.45    1.23    1.26    1.31    0.09    \n",
      "Test time         0.29    0.25    0.37    0.31    0.05    \n",
      "\n",
      "Número de Factores: 5\n",
      "Evaluating RMSE of algorithm SVD on 3 split(s).\n",
      "\n",
      "                  Fold 1  Fold 2  Fold 3  Mean    Std     \n",
      "RMSE (testset)    0.4769  0.4782  0.4760  0.4771  0.0009  \n",
      "Fit time          1.41    1.39    1.42    1.41    0.01    \n",
      "Test time         0.39    0.39    0.26    0.35    0.06    \n",
      "\n",
      "Número de Factores: 15\n",
      "Evaluating RMSE of algorithm SVD on 3 split(s).\n",
      "\n",
      "                  Fold 1  Fold 2  Fold 3  Mean    Std     \n",
      "RMSE (testset)    0.4766  0.4792  0.4767  0.4775  0.0012  \n",
      "Fit time          2.02    1.79    2.22    2.01    0.18    \n",
      "Test time         0.27    0.29    0.28    0.28    0.01    \n",
      "\n",
      "Número de Factores: 25\n",
      "Evaluating RMSE of algorithm SVD on 3 split(s).\n",
      "\n",
      "                  Fold 1  Fold 2  Fold 3  Mean    Std     \n",
      "RMSE (testset)    0.4794  0.4786  0.4786  0.4789  0.0004  \n",
      "Fit time          2.28    2.47    2.39    2.38    0.08    \n",
      "Test time         0.45    0.46    0.40    0.44    0.02    \n",
      "\n",
      "Número de Factores: 30\n",
      "Evaluating RMSE of algorithm SVD on 3 split(s).\n",
      "\n",
      "                  Fold 1  Fold 2  Fold 3  Mean    Std     \n",
      "RMSE (testset)    0.4790  0.4788  0.4787  0.4788  0.0001  \n",
      "Fit time          2.80    3.10    2.53    2.81    0.23    \n",
      "Test time         0.34    0.27    0.43    0.35    0.07    \n"
     ]
    }
   ],
   "source": [
    "from surprise.model_selection import cross_validate\n",
    "\n",
    "rmse_test_means = []\n",
    "factores = [1,5,15,25,30]\n",
    "\n",
    "for factor in factores:\n",
    "    print(f'\\nNúmero de Factores: {factor}')\n",
    "    algo = SVD(n_factors=factor)\n",
    "    cv = cross_validate(algo, data, measures=['RMSE'], cv = 3, verbose=True)\n",
    "    rmse_test_means.append(np.mean(cv['test_rmse']))"
   ]
  },
  {
   "cell_type": "code",
   "execution_count": 60,
   "metadata": {},
   "outputs": [
    {
     "data": {
      "image/png": "[encoded data removed]",
      "text/plain": [
       "<Figure size 432x288 with 1 Axes>"
      ]
     },
     "metadata": {},
     "output_type": "display_data"
    }
   ],
   "source": [
    "plt.scatter(factores, rmse_test_means)\n",
    "plt.xlabel('Numero de factores')\n",
    "plt.ylabel('Error RMSE')\n",
    "plt.show()"
   ]
  },
  {
   "cell_type": "code",
   "execution_count": 61,
   "metadata": {},
   "outputs": [
    {
     "name": "stderr",
     "output_type": "stream",
     "text": [
      "[Parallel(n_jobs=-1)]: Using backend LokyBackend with 8 concurrent workers.\n",
      "[Parallel(n_jobs=-1)]: Done   2 tasks      | elapsed:    8.7s\n",
      "[Parallel(n_jobs=-1)]: Done  56 tasks      | elapsed:   52.6s\n"
     ]
    },
    {
     "name": "stdout",
     "output_type": "stream",
     "text": [
      "Wall time: 1min 23s\n"
     ]
    },
    {
     "name": "stderr",
     "output_type": "stream",
     "text": [
      "[Parallel(n_jobs=-1)]: Done  90 out of  90 | elapsed:  1.4min finished\n"
     ]
    }
   ],
   "source": [
    "%%time\n",
    "from surprise.model_selection import GridSearchCV\n",
    "\n",
    "param_grid = {'n_factors':[1],'n_epochs': [25,27,30], 'lr_all': [0.0015, 0.002],\n",
    "              'reg_all': [0.01, 0.015,0.02]}\n",
    "gs = GridSearchCV(SVD, param_grid, measures=['rmse'], cv=5, n_jobs = -1, joblib_verbose=5)\n",
    "gs.fit(data)"
   ]
  },
  {
   "cell_type": "code",
   "execution_count": 62,
   "metadata": {},
   "outputs": [
    {
     "name": "stdout",
     "output_type": "stream",
     "text": [
      "0.4700180227546933\n",
      "{'n_factors': 5, 'n_epochs': 25, 'lr_all': 0.0015, 'reg_all': 0.015}\n"
     ]
    }
   ],
   "source": [
    "print(gs.best_score['rmse'])\n",
    "print(gs.best_params['rmse'])"
   ]
  },
  {
   "cell_type": "markdown",
   "metadata": {},
   "source": [
    "### SVD++"
   ]
  },
  {
   "cell_type": "code",
   "execution_count": 63,
   "metadata": {},
   "outputs": [
    {
     "name": "stdout",
     "output_type": "stream",
     "text": [
      "Wall time: 24.5 s\n"
     ]
    },
    {
     "data": {
      "text/plain": [
       "Prediction(uid=45948, iid=268500, r_ui=None, est=0.525158259418476, details={'was_impossible': False})"
      ]
     },
     "execution_count": 63,
     "metadata": {},
     "output_type": "execute_result"
    }
   ],
   "source": [
    "%%time\n",
    "\n",
    "from surprise import SVDpp\n",
    "algo_pp = SVDpp()\n",
    "algo_pp.fit(trainset)\n",
    "\n",
    "predictions_pp = algo_pp.test(testset)\n",
    "\n",
    "#Probamos\n",
    "algo_pp.predict(45948,268500)"
   ]
  },
  {
   "cell_type": "code",
   "execution_count": 64,
   "metadata": {},
   "outputs": [
    {
     "name": "stdout",
     "output_type": "stream",
     "text": [
      "RMSE: 0.4820\n"
     ]
    },
    {
     "data": {
      "text/plain": [
       "0.48198342423985135"
      ]
     },
     "execution_count": 64,
     "metadata": {},
     "output_type": "execute_result"
    }
   ],
   "source": [
    "accuracy.rmse(predictions_pp)"
   ]
  },
  {
   "cell_type": "code",
   "execution_count": 65,
   "metadata": {},
   "outputs": [
    {
     "name": "stdout",
     "output_type": "stream",
     "text": [
      "\n",
      "Número de Factores: 1\n",
      "Evaluating RMSE of algorithm SVDpp on 3 split(s).\n",
      "\n",
      "                  Fold 1  Fold 2  Fold 3  Mean    Std     \n",
      "RMSE (testset)    0.4819  0.4817  0.4825  0.4820  0.0004  \n",
      "Fit time          12.48   11.79   11.93   12.07   0.30    \n",
      "Test time         0.97    0.87    0.82    0.89    0.06    \n",
      "\n",
      "Número de Factores: 2\n",
      "Evaluating RMSE of algorithm SVDpp on 3 split(s).\n",
      "\n",
      "                  Fold 1  Fold 2  Fold 3  Mean    Std     \n",
      "RMSE (testset)    0.4814  0.4821  0.4811  0.4815  0.0004  \n",
      "Fit time          12.89   12.79   13.00   12.90   0.09    \n",
      "Test time         1.07    0.97    1.10    1.05    0.06    \n",
      "\n",
      "Número de Factores: 4\n",
      "Evaluating RMSE of algorithm SVDpp on 3 split(s).\n",
      "\n",
      "                  Fold 1  Fold 2  Fold 3  Mean    Std     \n",
      "RMSE (testset)    0.4825  0.4815  0.4820  0.4820  0.0004  \n",
      "Fit time          13.12   13.16   13.97   13.42   0.39    \n",
      "Test time         0.90    0.91    1.09    0.97    0.09    \n"
     ]
    }
   ],
   "source": [
    "from surprise.model_selection import cross_validate\n",
    "\n",
    "rmse_test_means = []\n",
    "factores = [1,2,4]\n",
    "\n",
    "for factor in factores:\n",
    "    print(f'\\nNúmero de Factores: {factor}')\n",
    "    algo = SVDpp(n_factors=factor)\n",
    "    cv = cross_validate(algo, data, measures=['RMSE'], cv = 3, verbose=True)\n",
    "    rmse_test_means.append(np.mean(cv['test_rmse']))"
   ]
  },
  {
   "cell_type": "code",
   "execution_count": 66,
   "metadata": {},
   "outputs": [
    {
     "data": {
      "image/png": "[encoded data removed]",
      "text/plain": [
       "<Figure size 432x288 with 1 Axes>"
      ]
     },
     "metadata": {},
     "output_type": "display_data"
    }
   ],
   "source": [
    "plt.scatter(factores, rmse_test_means)\n",
    "plt.xlabel('Numero de factores')\n",
    "plt.ylabel('Error RMSE')\n",
    "plt.show()"
   ]
  },
  {
   "cell_type": "code",
   "execution_count": 67,
   "metadata": {},
   "outputs": [
    {
     "name": "stderr",
     "output_type": "stream",
     "text": [
      "[Parallel(n_jobs=-1)]: Using backend LokyBackend with 8 concurrent workers.\n",
      "[Parallel(n_jobs=-1)]: Done   2 tasks      | elapsed:   57.9s\n",
      "[Parallel(n_jobs=-1)]: Done  56 tasks      | elapsed:  6.1min\n"
     ]
    },
    {
     "name": "stdout",
     "output_type": "stream",
     "text": [
      "0.4697526406409639\n",
      "{'n_factors': 1, 'n_epochs': 25, 'lr_all': 0.0015, 'reg_all': 0.01}\n",
      "Wall time: 10min\n"
     ]
    },
    {
     "name": "stderr",
     "output_type": "stream",
     "text": [
      "[Parallel(n_jobs=-1)]: Done  90 out of  90 | elapsed: 10.0min finished\n"
     ]
    }
   ],
   "source": [
    "%%time\n",
    "from surprise.model_selection import GridSearchCV\n",
    "\n",
    "param_grid = {'n_factors':[2],'n_epochs': [25,27,30], 'lr_all': [0.0015, 0.002],\n",
    "              'reg_all': [0.01, 0.015,0.02]}\n",
    "gs = GridSearchCV(SVDpp, param_grid, measures=['rmse'], cv=5, n_jobs = -1, joblib_verbose=5)\n",
    "gs.fit(data)\n",
    "print(gs.best_score['rmse'])\n",
    "print(gs.best_params['rmse'])"
   ]
  },
  {
   "cell_type": "markdown",
   "metadata": {},
   "source": [
    "## Conclusion\n",
    "\n",
    "\n",
    "A partir de correr los dos modelos y optimizar hiperparámetros de cada uno de ellos podemos ver en este caso que se desempeña mejor el modelo SVD con un RMSE de 0.469 pero con un un tiempo mucho menor de ejecucion. Los hiperparámetros seleccionados son:\n",
    "\n",
    "   * n_factors: 1,\n",
    "\n",
    "   * n_epochs: 25\n",
    "\n",
    "   * lr_all: 0.0015,\n",
    "\n",
    "   * reg_all: 0.01"
   ]
  },
  {
   "cell_type": "markdown",
   "metadata": {},
   "source": [
    "## PROYECTO 4 (desarrollo)"
   ]
  },
  {
   "cell_type": "markdown",
   "metadata": {},
   "source": [
    "# NLP"
   ]
  },
  {
   "cell_type": "markdown",
   "metadata": {},
   "source": [
    "### Se creara un dataset para ser analizado a los fines de aplicar NLP y realizar el respectivo analisis exploratorio"
   ]
  },
  {
   "cell_type": "code",
   "execution_count": 68,
   "metadata": {},
   "outputs": [],
   "source": [
    "#tomo las columnas relevantes\n",
    "reviews_nlp=datain[['user_id','username','product_id','text','hours']]\n",
    "reviews_nlp=reviews_nlp.reset_index(drop=True)"
   ]
  },
  {
   "cell_type": "code",
   "execution_count": 69,
   "metadata": {},
   "outputs": [],
   "source": [
    "#se eliminan los valores faltantes\n",
    "reviews_nlp.dropna(subset=['username'], how='all', inplace=True)\n",
    "reviews_nlp.dropna(subset=['text'], how='all', inplace=True)\n",
    "reviews_nlp.dropna(subset=['hours'], how='all', inplace=True)"
   ]
  },
  {
   "cell_type": "code",
   "execution_count": 70,
   "metadata": {},
   "outputs": [],
   "source": [
    "#creo el usuario unico\n",
    "reviews_nlp=reviews_nlp.merge(usr_unico, left_on='username', right_on='username')"
   ]
  },
  {
   "cell_type": "code",
   "execution_count": 71,
   "metadata": {},
   "outputs": [],
   "source": [
    "#creo el rating\n",
    "#mapeo\n",
    "grouped=reviews_nlp.groupby('user_id_y').median().sort_values(('hours'),ascending=False).head(20)\n",
    "\n",
    "#reorganizacion de columnas\n",
    "encod_type = reviews_nlp.groupby('user_id_y')['hours'].median()\n",
    "reviews_nlp.loc[:, 'median_hours'] = reviews_nlp['user_id_y'].map(encod_type)\n",
    "\n",
    "reviews_nlp.dropna(subset=['user_id_y'], how='all', inplace=True)\n",
    "reviews_nlp['rating'] = np.where(reviews_nlp['hours']>=reviews_nlp['median_hours'], 1, 0)\n",
    "reviews_nlp['rating'] = reviews_nlp['rating'].astype(np.uint8)\n",
    "reviews_nlp = reviews_nlp.reset_index(drop=True)"
   ]
  },
  {
   "cell_type": "code",
   "execution_count": 72,
   "metadata": {},
   "outputs": [],
   "source": [
    "del(reviews_nlp['user_id_x'])\n",
    "reviews_nlp.rename(columns={'user_id_y':'user_id'},inplace=True)"
   ]
  },
  {
   "cell_type": "code",
   "execution_count": 73,
   "metadata": {},
   "outputs": [],
   "source": [
    "#elimino duplicados\n",
    "reviews_nlp['user_id'] = reviews_nlp['user_id'].astype(np.int64)\n",
    "reviews_nlp.drop_duplicates(subset=['product_id', 'user_id'], keep='last', inplace=True)"
   ]
  },
  {
   "cell_type": "code",
   "execution_count": 74,
   "metadata": {},
   "outputs": [],
   "source": [
    "#mayores a 3 reviews\n",
    "reviews_nlp=reviews_nlp[reviews_nlp.user_id.isin(grupo_usuarios)]\n",
    "\n",
    "reviews_nlp['product_id'] = reviews_nlp['product_id'].astype(np.int32)\n",
    "reviews_nlp.set_index('product_id',inplace=True)"
   ]
  },
  {
   "cell_type": "code",
   "execution_count": 75,
   "metadata": {},
   "outputs": [],
   "source": [
    "data_games.rename(columns={'id':'product_id'},inplace=True)\n",
    "data_games['product_id'] = data_games['product_id'].astype(np.float32)\n",
    "data_games.set_index('product_id',inplace=True)"
   ]
  },
  {
   "cell_type": "code",
   "execution_count": 76,
   "metadata": {},
   "outputs": [],
   "source": [
    "games_nlp = data_games[['app_name','sentiment']]"
   ]
  },
  {
   "cell_type": "code",
   "execution_count": 77,
   "metadata": {},
   "outputs": [],
   "source": [
    "#Combino\n",
    "data_nlp=pd.merge(reviews_nlp,games_nlp, on='product_id')"
   ]
  },
  {
   "cell_type": "code",
   "execution_count": 78,
   "metadata": {},
   "outputs": [
    {
     "data": {
      "text/html": [
       "<div>\n",
       "<style scoped>\n",
       "    .dataframe tbody tr th:only-of-type {\n",
       "        vertical-align: middle;\n",
       "    }\n",
       "\n",
       "    .dataframe tbody tr th {\n",
       "        vertical-align: top;\n",
       "    }\n",
       "\n",
       "    .dataframe thead th {\n",
       "        text-align: right;\n",
       "    }\n",
       "</style>\n",
       "<table border=\"1\" class=\"dataframe\">\n",
       "  <thead>\n",
       "    <tr style=\"text-align: right;\">\n",
       "      <th></th>\n",
       "      <th>username</th>\n",
       "      <th>text</th>\n",
       "      <th>hours</th>\n",
       "      <th>user_id</th>\n",
       "      <th>median_hours</th>\n",
       "      <th>rating</th>\n",
       "      <th>app_name</th>\n",
       "      <th>sentiment</th>\n",
       "    </tr>\n",
       "    <tr>\n",
       "      <th>product_id</th>\n",
       "      <th></th>\n",
       "      <th></th>\n",
       "      <th></th>\n",
       "      <th></th>\n",
       "      <th></th>\n",
       "      <th></th>\n",
       "      <th></th>\n",
       "      <th></th>\n",
       "    </tr>\n",
       "  </thead>\n",
       "  <tbody>\n",
       "    <tr>\n",
       "      <th>631920</th>\n",
       "      <td>The_Cpt_FROGGY</td>\n",
       "      <td>Somewhere on Zibylon:\\n~~~~~~~~~~~~~~~~~~\\nZib...</td>\n",
       "      <td>7.8</td>\n",
       "      <td>4</td>\n",
       "      <td>6.8</td>\n",
       "      <td>1</td>\n",
       "      <td>Somewhere on Zibylon</td>\n",
       "      <td>Positive</td>\n",
       "    </tr>\n",
       "    <tr>\n",
       "      <th>631920</th>\n",
       "      <td>Mia</td>\n",
       "      <td>What a cute little game! The puzzles are actua...</td>\n",
       "      <td>31.4</td>\n",
       "      <td>26</td>\n",
       "      <td>8.9</td>\n",
       "      <td>1</td>\n",
       "      <td>Somewhere on Zibylon</td>\n",
       "      <td>Positive</td>\n",
       "    </tr>\n",
       "    <tr>\n",
       "      <th>482440</th>\n",
       "      <td>The_Cpt_FROGGY</td>\n",
       "      <td>ESSENCE:\\n~~~~~~~\\nI can’t remember this place...</td>\n",
       "      <td>7.3</td>\n",
       "      <td>4</td>\n",
       "      <td>6.8</td>\n",
       "      <td>1</td>\n",
       "      <td>ESSENCE</td>\n",
       "      <td>Mostly Positive</td>\n",
       "    </tr>\n",
       "    <tr>\n",
       "      <th>736860</th>\n",
       "      <td>The_Cpt_FROGGY</td>\n",
       "      <td>Hidden Object Adventure: Around The World in 8...</td>\n",
       "      <td>4.7</td>\n",
       "      <td>4</td>\n",
       "      <td>6.8</td>\n",
       "      <td>0</td>\n",
       "      <td>Hidden Object Adventure: Around the World in 8...</td>\n",
       "      <td>Positive</td>\n",
       "    </tr>\n",
       "    <tr>\n",
       "      <th>493540</th>\n",
       "      <td>The_Cpt_FROGGY</td>\n",
       "      <td>Figment:\\n~~~~~~~\\n\\nThe mind is one of the mo...</td>\n",
       "      <td>8.3</td>\n",
       "      <td>4</td>\n",
       "      <td>6.8</td>\n",
       "      <td>1</td>\n",
       "      <td>Figment</td>\n",
       "      <td>Very Positive</td>\n",
       "    </tr>\n",
       "    <tr>\n",
       "      <th>...</th>\n",
       "      <td>...</td>\n",
       "      <td>...</td>\n",
       "      <td>...</td>\n",
       "      <td>...</td>\n",
       "      <td>...</td>\n",
       "      <td>...</td>\n",
       "      <td>...</td>\n",
       "      <td>...</td>\n",
       "    </tr>\n",
       "    <tr>\n",
       "      <th>513370</th>\n",
       "      <td>Schatt3npakt</td>\n",
       "      <td>Blade &amp; Bones could be so good... if it would ...</td>\n",
       "      <td>1.6</td>\n",
       "      <td>380330</td>\n",
       "      <td>2.2</td>\n",
       "      <td>0</td>\n",
       "      <td>Blade &amp; Bones</td>\n",
       "      <td>Mixed</td>\n",
       "    </tr>\n",
       "    <tr>\n",
       "      <th>352740</th>\n",
       "      <td>Quicksilver</td>\n",
       "      <td>This review is coming from someone that really...</td>\n",
       "      <td>18.6</td>\n",
       "      <td>391666</td>\n",
       "      <td>28.8</td>\n",
       "      <td>0</td>\n",
       "      <td>Princess Battles</td>\n",
       "      <td>Mixed</td>\n",
       "    </tr>\n",
       "    <tr>\n",
       "      <th>422540</th>\n",
       "      <td>Weirdo</td>\n",
       "      <td>This film comes recommended from the gentlemen...</td>\n",
       "      <td>2.1</td>\n",
       "      <td>401292</td>\n",
       "      <td>35.4</td>\n",
       "      <td>0</td>\n",
       "      <td>Dangerous Men</td>\n",
       "      <td>9 user reviews</td>\n",
       "    </tr>\n",
       "    <tr>\n",
       "      <th>375000</th>\n",
       "      <td>jackaho</td>\n",
       "      <td>I'm terrible at shmups but I like this game.  ...</td>\n",
       "      <td>14.4</td>\n",
       "      <td>404569</td>\n",
       "      <td>18.0</td>\n",
       "      <td>0</td>\n",
       "      <td>Icarus-X: Tides of Fire</td>\n",
       "      <td>6 user reviews</td>\n",
       "    </tr>\n",
       "    <tr>\n",
       "      <th>246800</th>\n",
       "      <td>jackaho</td>\n",
       "      <td>Terrible game.  You slog from one place to ano...</td>\n",
       "      <td>0.7</td>\n",
       "      <td>404569</td>\n",
       "      <td>18.0</td>\n",
       "      <td>0</td>\n",
       "      <td>BeatBlasters III</td>\n",
       "      <td>5 user reviews</td>\n",
       "    </tr>\n",
       "  </tbody>\n",
       "</table>\n",
       "<p>147213 rows × 8 columns</p>\n",
       "</div>"
      ],
      "text/plain": [
       "                  username                                               text  \\\n",
       "product_id                                                                      \n",
       "631920      The_Cpt_FROGGY  Somewhere on Zibylon:\\n~~~~~~~~~~~~~~~~~~\\nZib...   \n",
       "631920                 Mia  What a cute little game! The puzzles are actua...   \n",
       "482440      The_Cpt_FROGGY  ESSENCE:\\n~~~~~~~\\nI can’t remember this place...   \n",
       "736860      The_Cpt_FROGGY  Hidden Object Adventure: Around The World in 8...   \n",
       "493540      The_Cpt_FROGGY  Figment:\\n~~~~~~~\\n\\nThe mind is one of the mo...   \n",
       "...                    ...                                                ...   \n",
       "513370        Schatt3npakt  Blade & Bones could be so good... if it would ...   \n",
       "352740         Quicksilver  This review is coming from someone that really...   \n",
       "422540              Weirdo  This film comes recommended from the gentlemen...   \n",
       "375000             jackaho  I'm terrible at shmups but I like this game.  ...   \n",
       "246800             jackaho  Terrible game.  You slog from one place to ano...   \n",
       "\n",
       "            hours  user_id  median_hours  rating  \\\n",
       "product_id                                         \n",
       "631920        7.8        4           6.8       1   \n",
       "631920       31.4       26           8.9       1   \n",
       "482440        7.3        4           6.8       1   \n",
       "736860        4.7        4           6.8       0   \n",
       "493540        8.3        4           6.8       1   \n",
       "...           ...      ...           ...     ...   \n",
       "513370        1.6   380330           2.2       0   \n",
       "352740       18.6   391666          28.8       0   \n",
       "422540        2.1   401292          35.4       0   \n",
       "375000       14.4   404569          18.0       0   \n",
       "246800        0.7   404569          18.0       0   \n",
       "\n",
       "                                                     app_name        sentiment  \n",
       "product_id                                                                      \n",
       "631920                                   Somewhere on Zibylon         Positive  \n",
       "631920                                   Somewhere on Zibylon         Positive  \n",
       "482440                                                ESSENCE  Mostly Positive  \n",
       "736860      Hidden Object Adventure: Around the World in 8...         Positive  \n",
       "493540                                                Figment    Very Positive  \n",
       "...                                                       ...              ...  \n",
       "513370                                          Blade & Bones            Mixed  \n",
       "352740                                       Princess Battles            Mixed  \n",
       "422540                                          Dangerous Men   9 user reviews  \n",
       "375000                                Icarus-X: Tides of Fire   6 user reviews  \n",
       "246800                                       BeatBlasters III   5 user reviews  \n",
       "\n",
       "[147213 rows x 8 columns]"
      ]
     },
     "execution_count": 78,
     "metadata": {},
     "output_type": "execute_result"
    }
   ],
   "source": [
    "data_nlp"
   ]
  },
  {
   "cell_type": "code",
   "execution_count": 79,
   "metadata": {},
   "outputs": [
    {
     "data": {
      "image/png": "[encoded data removed]",
      "text/plain": [
       "<Figure size 1080x360 with 1 Axes>"
      ]
     },
     "metadata": {},
     "output_type": "display_data"
    }
   ],
   "source": [
    "fig=plt.figure(figsize=(15,5))\n",
    "plt.suptitle('Gráfico XI: Cantidad de Productos al comentar',fontsize=20, ha='center')\n",
    "sns.countplot(y=data_nlp.sentiment)\n",
    "fig.subplots_adjust(top=0.8)\n",
    "plt.show()"
   ]
  },
  {
   "cell_type": "markdown",
   "metadata": {},
   "source": [
    "Podemos ver aqui el desbalanceo que hay en cuanto a los datos que hay en la columna sentiments ya que hay demasiados comentarios positivos y pocos negativos"
   ]
  },
  {
   "cell_type": "code",
   "execution_count": 80,
   "metadata": {},
   "outputs": [
    {
     "data": {
      "image/png": "[encoded data removed]",
      "text/plain": [
       "<Figure size 1080x360 with 1 Axes>"
      ]
     },
     "metadata": {},
     "output_type": "display_data"
    },
    {
     "name": "stdout",
     "output_type": "stream",
     "text": [
      "106755 Amazing game, rewarding combo-system and many offline/online-features to keep you playing for long. Never had that much fun in any other fighting game. The only problem in this game: The microphone is always set on, which means, if you forgot to turn off your mic, everyone can hear you even if you don't want to, no options for that in the audio settings. That said, I had to listen to raging guys all over the world, but also to nice ones. :D But you can mute others pressing start on your controller\n",
      "Oh, and the community is great and helpful! Very Positive\n"
     ]
    }
   ],
   "source": [
    "data_nlp=data_nlp[(data_nlp.sentiment=='Positive')|\n",
    "                        (data_nlp.sentiment=='Mostly Positive')|\n",
    "                        (data_nlp.sentiment=='Very Positive')|\n",
    "                        (data_nlp.sentiment=='Mixed')|\n",
    "                        (data_nlp.sentiment=='Overwhelmingly Positive')]\n",
    "\n",
    "fig=plt.figure(figsize=(15,5))\n",
    "plt.suptitle('Gráfico XII: Cantidad de Productos al comentar',fontsize=20, ha='center')\n",
    "sns.countplot(data_nlp.sentiment)\n",
    "fig.subplots_adjust(top=0.8)\n",
    "plt.show()\n",
    "\n",
    "\n",
    "#breve exploración a través de un ejemplo aleatorio\n",
    "index_random = np.random.randint(0,high = data_nlp.shape[0])\n",
    "texto = data_nlp.iloc[index_random].text\n",
    "print(index_random, texto, data_nlp.iloc[index_random].sentiment)"
   ]
  },
  {
   "cell_type": "markdown",
   "metadata": {},
   "source": [
    "El Gráfico XII muestra las categorías de comentarios que serán incorporadas a nuestro análisis. "
   ]
  },
  {
   "cell_type": "markdown",
   "metadata": {},
   "source": [
    "**Tokenización, StopWords y Rarewords**"
   ]
  },
  {
   "cell_type": "code",
   "execution_count": 81,
   "metadata": {},
   "outputs": [
    {
     "name": "stderr",
     "output_type": "stream",
     "text": [
      "[nltk_data] Downloading package punkt to\n",
      "[nltk_data]     C:\\Users\\Juani\\AppData\\Roaming\\nltk_data...\n",
      "[nltk_data]   Package punkt is already up-to-date!\n",
      "[nltk_data] Downloading package stopwords to\n",
      "[nltk_data]     C:\\Users\\Juani\\AppData\\Roaming\\nltk_data...\n",
      "[nltk_data]   Package stopwords is already up-to-date!\n"
     ]
    }
   ],
   "source": [
    "import itertools\n",
    "import nltk\n",
    "nltk.download('punkt')\n",
    "nltk.download('stopwords')\n",
    "\n",
    "\n",
    "filtrar = []\n",
    "if True:\n",
    "    filtrar.append(\"game\")\n",
    "    filtrar.append(\"I\")\n",
    "    filtrar.append(\"The\")\n",
    "    filtrar.append(\"It\")\n",
    "    filtrar.append(\"This\")\n",
    "    filtrar.append(\"one\")\n",
    "    filtrar.append(\"not\")\n",
    "    filtrar.append(\"get\")\n",
    "    filtrar.append(\"really\")\n",
    "    filtrar.append(\"games\")\n",
    "    filtrar.append(\"like\")\n",
    "    filtrar.append(\"play\")\n",
    "    filtrar.append(\"time\")\n",
    "    filtrar.append(\"would\")\n",
    "    filtrar.append(\"even\")\n",
    "    filtrar.append(\"good\")\n",
    "    filtrar.append(\"much\")\n",
    "    filtrar.append(\"You\")\n",
    "    filtrar.append(\"first\")\n",
    "    filtrar.append(\"make\")\n",
    "    filtrar.append(\"playing\")\n",
    "    filtrar.append(\"If\")\n",
    "    filtrar.append(\"played\")\n",
    "    filtrar.append(\"A\")\n",
    "    filtrar.append(\"There\")\n",
    "\n",
    "#TOKENIZACIÓN CON NLTK\n",
    "titular_st = nltk.tokenize.sent_tokenize(texto)\n",
    "titular_wt = nltk.tokenize.word_tokenize(texto)\n",
    "    \n",
    "#NORMALIZACIÓN \n",
    "stopwords = nltk.corpus.stopwords.words('english')\n",
    "stopwords = [palabra for palabra in stopwords if 'not' not in palabra]\n",
    "\n",
    "titular_wt_sin_sw = [word for word in titular_wt if word not in stopwords]\n",
    "\n",
    "#FRECUENCIA DE PALABRAS\n",
    "freq=nltk.FreqDist(titular_wt_sin_sw)"
   ]
  },
  {
   "cell_type": "markdown",
   "metadata": {},
   "source": [
    "### Textos Positivos"
   ]
  },
  {
   "cell_type": "code",
   "execution_count": 82,
   "metadata": {},
   "outputs": [
    {
     "data": {
      "image/png": "[encoded data removed]",
      "text/plain": [
       "<Figure size 1080x576 with 1 Axes>"
      ]
     },
     "metadata": {},
     "output_type": "display_data"
    }
   ],
   "source": [
    "# Agrupar los titulares por tipo. Crear un dataframe para cada uno. Recuerden usar máscaras.\n",
    "dataset_positive = data_nlp[data_nlp.rating==1]\n",
    "\n",
    "#toquenización+borrado de stopwords, palabras de filtrar y palabras de menos de tres letras\n",
    "todos_textos_positivos = []\n",
    "for i in range(dataset_positive.shape[0]):\n",
    "    texto = dataset_positive.iloc[i].text\n",
    "    texto = nltk.tokenize.RegexpTokenizer(\"[\\w]+\").tokenize(texto)\n",
    "    texto = [word for word in texto if word not in stopwords]\n",
    "    texto = [word for word in texto if word not in filtrar]\n",
    "    textoi= [word for word in texto if len(word)>3]\n",
    "\n",
    "    todos_textos_positivos.append(texto)\n",
    "    \n",
    "todos_textos_positivos = list(itertools.chain(*todos_textos_positivos))\n",
    "#todos_textos_positivos[0:10]\n",
    "freq_textos_positivos = nltk.FreqDist(todos_textos_positivos)\n",
    "\n",
    "\n",
    "df_positivos = pd.DataFrame(list(freq_textos_positivos.items()), columns = [\"Word\",\"Frequency\"])\n",
    "df_positivos.sort_values('Frequency',ascending=False, inplace = True)\n",
    "df_positivos.reset_index(drop = True, inplace=True)\n",
    "df_positivos.head()\n",
    "\n",
    "plt.figure(figsize = (15,8))\n",
    "plot = sns.barplot(x  = df_positivos.iloc[:30].Word, y = df_positivos.iloc[:30].Frequency)\n",
    "for item in plot.get_xticklabels():\n",
    "    item.set_rotation(90)\n",
    "plt.show()"
   ]
  },
  {
   "cell_type": "markdown",
   "metadata": {},
   "source": [
    "Las palabras mas usadas en los textos positivos fueron fun, 10, story."
   ]
  },
  {
   "cell_type": "markdown",
   "metadata": {},
   "source": [
    "### Textos Negativos"
   ]
  },
  {
   "cell_type": "code",
   "execution_count": 83,
   "metadata": {},
   "outputs": [
    {
     "data": {
      "image/png": "[encoded data removed]",
      "text/plain": [
       "<Figure size 1080x576 with 1 Axes>"
      ]
     },
     "metadata": {},
     "output_type": "display_data"
    }
   ],
   "source": [
    "dataset_negative = data_nlp[data_nlp.rating==0]\n",
    "\n",
    "todos_textos_negativos = []\n",
    "for i in range(dataset_negative.shape[0]):\n",
    "    texto = dataset_negative.iloc[i].text\n",
    "    texto = nltk.tokenize.RegexpTokenizer(\"[\\w]+\").tokenize(texto)\n",
    "    texto = [word for word in texto if word not in stopwords]\n",
    "    texto = [word for word in texto if word not in filtrar]\n",
    "    texto= [word for word in texto if len(word)>3]\n",
    "    todos_textos_negativos.append(texto)\n",
    "    \n",
    "todos_textos_negativos = list(itertools.chain(*todos_textos_negativos))\n",
    "\n",
    "freq_negative = nltk.FreqDist(todos_textos_negativos)\n",
    "\n",
    "df_negative = pd.DataFrame(list(freq_negative.items()), columns = [\"Word\",\"Frequency\"])\n",
    "\n",
    "df_negative.sort_values('Frequency',ascending=False, inplace = True)\n",
    "\n",
    "df_negative.reset_index(drop = True, inplace=True)\n",
    "\n",
    "plt.figure(figsize = ( 15,8))\n",
    "plot = sns.barplot(x  = df_negative.iloc[:30].Word, y = df_negative.iloc[:30].Frequency)\n",
    "for item in plot.get_xticklabels():\n",
    "    item.set_rotation(90)\n",
    "plt.show()"
   ]
  },
  {
   "cell_type": "markdown",
   "metadata": {},
   "source": [
    "Las palabras que mas frecuencia tienen no parecen coincidir o tener coherencia con algo negativo (story,great,well)"
   ]
  },
  {
   "cell_type": "markdown",
   "metadata": {},
   "source": [
    "**Lematización**"
   ]
  },
  {
   "cell_type": "code",
   "execution_count": 84,
   "metadata": {},
   "outputs": [],
   "source": [
    "dataset= pd.concat([dataset_positive, dataset_negative])\n",
    "dataset=pd.concat([dataset.text,dataset.rating],axis=1)\n",
    "dataset.dropna(axis=0,inplace=True)  # Si hay alguna nan, tiramos esa instancia\n",
    "dataset.head()\n",
    "\n",
    "# Importamos esta libreria que nos permite reemplzar caracteres\n",
    "import re\n",
    "\n",
    "# Importamos el lemmatizar de NLTK, y creamos el objeto\n",
    "from nltk.stem import WordNetLemmatizer\n",
    "wordnet_lemmatizer = WordNetLemmatizer()"
   ]
  },
  {
   "cell_type": "code",
   "execution_count": 85,
   "metadata": {},
   "outputs": [],
   "source": [
    "from nltk.corpus import wordnet\n",
    "\n",
    "def get_wordnet_pos(word):\n",
    "    \"\"\"Map POS tag to first character lemmatize() accepts\"\"\"\n",
    "    tag = nltk.pos_tag([word])[0][1][0].upper()\n",
    "    tag_dict = {\"J\": wordnet.ADJ,\n",
    "                \"N\": wordnet.NOUN,\n",
    "                \"V\": wordnet.VERB,\n",
    "                \"R\": wordnet.ADV}\n",
    "\n",
    "    return tag_dict.get(tag, wordnet.NOUN)"
   ]
  },
  {
   "cell_type": "code",
   "execution_count": 86,
   "metadata": {},
   "outputs": [],
   "source": [
    "# Importamos el lemmatizar de NLTK, y creamos el objeto\n",
    "from nltk.stem import WordNetLemmatizer\n",
    "wordnet_lemmatizer = WordNetLemmatizer()\n",
    "\n",
    "# Importamos esta libreria que nos permite reemplzar caracteres\n",
    "import re\n",
    "\n",
    "# Traemos nuevamente las stopwords\n",
    "stopwords = nltk.corpus.stopwords.words('english')\n",
    "#stopword.remove('no')\n",
    "#stopword.remove('not')"
   ]
  },
  {
   "cell_type": "code",
   "execution_count": 87,
   "metadata": {},
   "outputs": [
    {
     "name": "stderr",
     "output_type": "stream",
     "text": [
      "[nltk_data] Downloading package averaged_perceptron_tagger to\n",
      "[nltk_data]     C:\\Users\\Juani\\AppData\\Roaming\\nltk_data...\n",
      "[nltk_data]   Package averaged_perceptron_tagger is already up-to-\n",
      "[nltk_data]       date!\n",
      "[nltk_data] Downloading package wordnet to\n",
      "[nltk_data]     C:\\Users\\Juani\\AppData\\Roaming\\nltk_data...\n",
      "[nltk_data]   Package wordnet is already up-to-date!\n"
     ]
    },
    {
     "name": "stdout",
     "output_type": "stream",
     "text": [
      "Wall time: 1h 34min 52s\n"
     ]
    }
   ],
   "source": [
    "%%time\n",
    "import nltk\n",
    "nltk.download('averaged_perceptron_tagger')\n",
    "nltk.download('wordnet')\n",
    "\n",
    "titular_list=[]\n",
    "for titular in dataset.text:\n",
    "    # Vamos a reemplzar los caracteres que no sean leras por espacios\n",
    "    titular=re.sub(\"[^a-zA-Z]\",\" \",str(titular))\n",
    "    # Pasamos todo a minúsculas\n",
    "    titular=titular.lower()\n",
    "    # Tokenizamos para separar las palabras\n",
    "    titular=nltk.word_tokenize(titular)\n",
    "    # Aplicamos el Lemmatizer (Esto puede tardar un ratito)\n",
    "    frase_lemma = [wordnet_lemmatizer.lemmatize(w, get_wordnet_pos(w)) for w in titular]\n",
    "    # Eliminamos las palabras demenos de 3 letras\n",
    "    titular = [palabra for palabra in titular if len(palabra)>3]\n",
    "    # Sacamos las Stopwords\n",
    "    titular = [palabra for palabra in titular if not palabra in stopwords]\n",
    "    # Por ultimo volvemos a unir el titular\n",
    "    titular=\" \".join(titular)\n",
    "    #dataset[\"titular_normalizado\"] = titular_list\n",
    "    titular_list.append(titular)"
   ]
  },
  {
   "cell_type": "code",
   "execution_count": 88,
   "metadata": {},
   "outputs": [
    {
     "data": {
      "text/html": [
       "<div>\n",
       "<style scoped>\n",
       "    .dataframe tbody tr th:only-of-type {\n",
       "        vertical-align: middle;\n",
       "    }\n",
       "\n",
       "    .dataframe tbody tr th {\n",
       "        vertical-align: top;\n",
       "    }\n",
       "\n",
       "    .dataframe thead th {\n",
       "        text-align: right;\n",
       "    }\n",
       "</style>\n",
       "<table border=\"1\" class=\"dataframe\">\n",
       "  <thead>\n",
       "    <tr style=\"text-align: right;\">\n",
       "      <th></th>\n",
       "      <th>titular_lemm</th>\n",
       "      <th>rating</th>\n",
       "    </tr>\n",
       "    <tr>\n",
       "      <th>product_id</th>\n",
       "      <th></th>\n",
       "      <th></th>\n",
       "    </tr>\n",
       "  </thead>\n",
       "  <tbody>\n",
       "    <tr>\n",
       "      <th>631920</th>\n",
       "      <td>somewhere zibylon zibylon command centre read ...</td>\n",
       "      <td>1</td>\n",
       "    </tr>\n",
       "    <tr>\n",
       "      <th>631920</th>\n",
       "      <td>cute little game puzzles actually quite though...</td>\n",
       "      <td>1</td>\n",
       "    </tr>\n",
       "    <tr>\n",
       "      <th>482440</th>\n",
       "      <td>essence remember place looks absolutely beauti...</td>\n",
       "      <td>1</td>\n",
       "    </tr>\n",
       "    <tr>\n",
       "      <th>493540</th>\n",
       "      <td>figment mind important functions individual ev...</td>\n",
       "      <td>1</td>\n",
       "    </tr>\n",
       "    <tr>\n",
       "      <th>341980</th>\n",
       "      <td>dont even know start game build based good ide...</td>\n",
       "      <td>1</td>\n",
       "    </tr>\n",
       "  </tbody>\n",
       "</table>\n",
       "</div>"
      ],
      "text/plain": [
       "                                                 titular_lemm  rating\n",
       "product_id                                                           \n",
       "631920      somewhere zibylon zibylon command centre read ...       1\n",
       "631920      cute little game puzzles actually quite though...       1\n",
       "482440      essence remember place looks absolutely beauti...       1\n",
       "493540      figment mind important functions individual ev...       1\n",
       "341980      dont even know start game build based good ide...       1"
      ]
     },
     "execution_count": 88,
     "metadata": {},
     "output_type": "execute_result"
    }
   ],
   "source": [
    "dataset[\"titular_lemm\"] = titular_list\n",
    "dataset_lemm = pd.concat([dataset.titular_lemm,dataset.rating],axis=1)\n",
    "dataset_lemm.dropna(axis=0,inplace=True)  # Por si quedaron titulares vacios\n",
    "dataset_lemm.head()"
   ]
  },
  {
   "cell_type": "code",
   "execution_count": 89,
   "metadata": {},
   "outputs": [
    {
     "name": "stdout",
     "output_type": "stream",
     "text": [
      "50 palabras mas usadas:  ['abilities', 'ability', 'able', 'absolutely', 'access', 'achievement', 'achievements', 'across', 'acting', 'action', 'actions', 'actual', 'actually', 'added', 'addicting', 'addictive', 'adding', 'addition', 'adds', 'adventure', 'ahead', 'alien', 'allow', 'allows', 'almost', 'alone', 'along', 'alot', 'alpha', 'already', 'alright', 'also', 'although', 'always', 'amazing', 'ammo', 'amount', 'animation', 'animations', 'anime', 'annoying', 'another', 'anymore', 'anyone', 'anything', 'anyway', 'apart', 'arcade', 'area', 'areas']\n"
     ]
    }
   ],
   "source": [
    "# Tomamso la lista de palabras y el vector que nos dice si es o no sarcastico el titulo\n",
    "list_titulos = list(dataset_lemm['titular_lemm'].values)\n",
    "recomendado = dataset_lemm['rating'].values\n",
    "\n",
    "## Para probar con Stemmizer:\n",
    "#list_titulos = list(dataset_stem'titular_stem'].values)\n",
    "#is_sarc = dataset_stem['is_sarcastic'].values\n",
    "\n",
    "from sklearn.feature_extraction.text import CountVectorizer\n",
    "\n",
    "# Usaremos solo las 1000 palabras con mas frecuencia en todo el corpus para generar los vectores\n",
    "max_features=1000\n",
    "\n",
    "# Es decir que cada instancia tendrá 1000 features\n",
    "cou_vec=CountVectorizer(max_features=max_features) # stop_words=\"english\" , ngram_range=(1, 2)\n",
    "\n",
    "matriz_titulos = cou_vec.fit_transform(list_titulos)\n",
    "\n",
    "# Tomamos las palabras\n",
    "all_words = cou_vec.get_feature_names()\n",
    "\n",
    "# Vizualizamos las 50 palabras mas usadas\n",
    "print(\"50 palabras mas usadas: \",all_words[0:50])"
   ]
  },
  {
   "cell_type": "code",
   "execution_count": 90,
   "metadata": {},
   "outputs": [
    {
     "name": "stdout",
     "output_type": "stream",
     "text": [
      "acc :  0.5188403781979978\n"
     ]
    },
    {
     "data": {
      "image/png": "[encoded data removed]",
      "text/plain": [
       "<Figure size 360x360 with 2 Axes>"
      ]
     },
     "metadata": {},
     "output_type": "display_data"
    }
   ],
   "source": [
    "x = matriz_titulos.toarray()\n",
    "y = recomendado\n",
    "\n",
    "from sklearn.model_selection import train_test_split\n",
    "xtrain, xtest, ytrain, ytest = train_test_split(x,y,test_size=0.2,random_state=42,stratify=y)\n",
    "\n",
    "\n",
    "from sklearn.metrics import confusion_matrix\n",
    "\n",
    "def confusion(ytest,y_pred):\n",
    "    names=[\"No recomendado\",\"Recomendado\"]\n",
    "    cm=confusion_matrix(ytest,y_pred)\n",
    "    f,ax=plt.subplots(figsize=(5,5))\n",
    "    sns.heatmap(cm,annot=True,linewidth=.5,linecolor=\"r\",fmt=\".0f\",ax=ax)\n",
    "    plt.xlabel(\"y_pred\")\n",
    "    plt.ylabel(\"y_true\")\n",
    "    ax.set_xticklabels(names)\n",
    "    ax.set_yticklabels(names)\n",
    "    plt.show()\n",
    "\n",
    "    return\n",
    "\n",
    "\n",
    "from sklearn.naive_bayes import GaussianNB\n",
    "nb = GaussianNB()\n",
    "nb.fit(xtrain,ytrain)\n",
    "print(\"acc : \", nb.score(xtest,ytest))\n",
    "\n",
    "\n",
    "y_pred=nb.predict(xtest)\n",
    "confusion(ytest,y_pred)"
   ]
  },
  {
   "cell_type": "code",
   "execution_count": 91,
   "metadata": {},
   "outputs": [
    {
     "name": "stdout",
     "output_type": "stream",
     "text": [
      "acc:  0.5784899888765295\n"
     ]
    },
    {
     "data": {
      "image/png": "[encoded data removed]",
      "text/plain": [
       "<Figure size 360x360 with 2 Axes>"
      ]
     },
     "metadata": {},
     "output_type": "display_data"
    },
    {
     "data": {
      "image/png": "[encoded data removed]",
      "text/plain": [
       "<Figure size 1080x576 with 1 Axes>"
      ]
     },
     "metadata": {},
     "output_type": "display_data"
    }
   ],
   "source": [
    "from sklearn.ensemble import RandomForestClassifier\n",
    "from sklearn.metrics import confusion_matrix\n",
    "\n",
    "rf = RandomForestClassifier(n_estimators = 100, random_state=42)\n",
    "rf.fit(xtrain,ytrain)\n",
    "print(\"acc: \",rf.score(xtest,ytest))\n",
    "\n",
    "\n",
    "y_pred=rf.predict(xtest)\n",
    "confusion(ytest,y_pred)\n",
    "\n",
    "\n",
    "# Le preguntamos la importancia de cada feature (cada palabra)\n",
    "importances = rf.feature_importances_\n",
    "# Tomamos la lista de palabras\n",
    "all_words = cou_vec.get_feature_names()\n",
    "columns = all_words\n",
    "\n",
    "# Ordenamos por importnacia y tomamos las 20 primeras\n",
    "indices = np.argsort(importances)[::-1]\n",
    "indices = indices[:20]\n",
    "selected_columns = [columns[i] for i in indices]\n",
    "selected_importances = importances[indices]\n",
    "\n",
    "# Por ultimo graficamos\n",
    "plt.figure(figsize = (15,8))\n",
    "sns.barplot(selected_columns, selected_importances)\n",
    "plt.show()"
   ]
  },
  {
   "cell_type": "markdown",
   "metadata": {},
   "source": [
    "##  Conclusion NLP"
   ]
  },
  {
   "cell_type": "markdown",
   "metadata": {},
   "source": [
    "**Como dijimos al principio, tratamos de incorporar los comentarios al sistema de recomendacion, sin embargo al terminar el modelo, nos damos cuenta que no es factible de poner en practica ya que no mejora los sistemas antes propuestos. Esto se puede dar ya que no existen correlaciones entre las palabras mas repetidas en comentasrios negativos y postitivos con lo que realmente son, por lo tanto no hay una coherencia estricta. Ademas si obsevamos este mismo tema, comparten entre ellas varias palabras. Existe un fuerte desbalance en la columna sentiments tambien por lo que esto tambien nos juega en contra a la hora del desarrollo del modelo. No recomiendo trabajar con este modelo.**"
   ]
  },
  {
   "cell_type": "markdown",
   "metadata": {},
   "source": [
    "## Conclusion general"
   ]
  },
  {
   "cell_type": "markdown",
   "metadata": {},
   "source": [
    "**Al analizar todos los modelos y los cambios realizados en este ultimo proyecto, creo que fue una buena decision cambiar la variable ranking tomando como punto de partida una medida mas acertada o creible que es la mediana y asi separar el ranking simplemente en si le gusto o no. Por una parte simplifica el dataset y si nos fijamos en los resultados obtenidos podemos ver que, si comparamos el RMSE del modelo del proyecto 3 tenia un error de 2.44 y al estar en la misma unidad que la variable, en ese caso de 0 a 10 y nosotros apuntabamos a un puntaje por encima de 7, no era bueno prediciendo los juegos que realmente le gustaban.\n",
    "En cambio en este modelo si bien el error es de 0.469 eso es para una variable binaria lo cual quiere decir que es mas preciso porque tiene menos probabilidad de fracaso en los casos positivos que en el modelo del proyecto 3.**"
   ]
  },
  {
   "cell_type": "markdown",
   "metadata": {},
   "source": [
    "##### Juan Ignacio Quinteros"
   ]
  },
  {
   "cell_type": "code",
   "execution_count": null,
   "metadata": {},
   "outputs": [],
   "source": []
  }
 ],
 "metadata": {
  "kernelspec": {
   "display_name": "Python 3",
   "language": "python",
   "name": "python3"
  },
  "language_info": {
   "codemirror_mode": {
    "name": "ipython",
    "version": 3
   },
   "file_extension": ".py",
   "mimetype": "text/x-python",
   "name": "python",
   "nbconvert_exporter": "python",
   "pygments_lexer": "ipython3",
   "version": "3.8.3"
  }
 },
 "nbformat": 4,
 "nbformat_minor": 4
}
